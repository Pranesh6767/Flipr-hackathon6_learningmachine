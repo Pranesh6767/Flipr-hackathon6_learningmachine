{
 "cells": [
  {
   "cell_type": "markdown",
   "metadata": {},
   "source": [
    "# Flipr Hackathon 6.0 Machine learning"
   ]
  },
  {
   "cell_type": "markdown",
   "metadata": {},
   "source": [
    "# Covid19 Cases Prediction"
   ]
  },
  {
   "cell_type": "markdown",
   "metadata": {},
   "source": [
    "## Problem Statement 1: Prediction of covid cases"
   ]
  },
  {
   "cell_type": "markdown",
   "metadata": {},
   "source": [
    "## Model Development"
   ]
  },
  {
   "cell_type": "markdown",
   "metadata": {},
   "source": [
    "## Importing Required Libraries"
   ]
  },
  {
   "cell_type": "code",
   "execution_count": 1,
   "metadata": {},
   "outputs": [],
   "source": [
    "import pandas as pd\n",
    "import numpy as np\n",
    "import matplotlib.pylab as plt\n",
    "import seaborn as sns\n",
    "from sklearn.model_selection import train_test_split\n",
    "from sklearn.metrics import mean_squared_error\n",
    "from sklearn.ensemble import RandomForestRegressor\n",
    "from sklearn.linear_model import LinearRegression"
   ]
  },
  {
   "cell_type": "markdown",
   "metadata": {},
   "source": [
    "## Reframing the Dataset"
   ]
  },
  {
   "cell_type": "code",
   "execution_count": 2,
   "metadata": {},
   "outputs": [
    {
     "data": {
      "text/html": [
       "<div>\n",
       "<style scoped>\n",
       "    .dataframe tbody tr th:only-of-type {\n",
       "        vertical-align: middle;\n",
       "    }\n",
       "\n",
       "    .dataframe tbody tr th {\n",
       "        vertical-align: top;\n",
       "    }\n",
       "\n",
       "    .dataframe thead th {\n",
       "        text-align: right;\n",
       "    }\n",
       "</style>\n",
       "<table border=\"1\" class=\"dataframe\">\n",
       "  <thead>\n",
       "    <tr style=\"text-align: right;\">\n",
       "      <th></th>\n",
       "      <th>Unnamed: 0</th>\n",
       "      <th>City</th>\n",
       "      <th>SWM</th>\n",
       "      <th>Population [2011]</th>\n",
       "      <th>Sex Ratio</th>\n",
       "      <th>Median Age</th>\n",
       "      <th>Avg Temp</th>\n",
       "      <th>Toilets Avl</th>\n",
       "      <th># of hospitals</th>\n",
       "      <th>Foreign Visitors</th>\n",
       "      <th>...</th>\n",
       "      <th>Punjab</th>\n",
       "      <th>Rajasthan</th>\n",
       "      <th>Sikkim</th>\n",
       "      <th>Tamil Nadu</th>\n",
       "      <th>Tamil nadu</th>\n",
       "      <th>Telangana</th>\n",
       "      <th>Tripura</th>\n",
       "      <th>Uttar Pradesh</th>\n",
       "      <th>Uttarakhand</th>\n",
       "      <th>West Bengal</th>\n",
       "    </tr>\n",
       "  </thead>\n",
       "  <tbody>\n",
       "    <tr>\n",
       "      <th>0</th>\n",
       "      <td>10</td>\n",
       "      <td>Kanpur</td>\n",
       "      <td>HIGH</td>\n",
       "      <td>0.222252</td>\n",
       "      <td>0.826296</td>\n",
       "      <td>0.812500</td>\n",
       "      <td>0.725</td>\n",
       "      <td>0.594714</td>\n",
       "      <td>0.591195</td>\n",
       "      <td>0.662594</td>\n",
       "      <td>...</td>\n",
       "      <td>0</td>\n",
       "      <td>0</td>\n",
       "      <td>0</td>\n",
       "      <td>0</td>\n",
       "      <td>0</td>\n",
       "      <td>0</td>\n",
       "      <td>0</td>\n",
       "      <td>1</td>\n",
       "      <td>0</td>\n",
       "      <td>0</td>\n",
       "    </tr>\n",
       "    <tr>\n",
       "      <th>1</th>\n",
       "      <td>11</td>\n",
       "      <td>Nagpur</td>\n",
       "      <td>MEDIUM</td>\n",
       "      <td>0.193345</td>\n",
       "      <td>0.842610</td>\n",
       "      <td>0.813673</td>\n",
       "      <td>0.875</td>\n",
       "      <td>0.440529</td>\n",
       "      <td>0.327044</td>\n",
       "      <td>0.941130</td>\n",
       "      <td>...</td>\n",
       "      <td>0</td>\n",
       "      <td>0</td>\n",
       "      <td>0</td>\n",
       "      <td>0</td>\n",
       "      <td>0</td>\n",
       "      <td>0</td>\n",
       "      <td>0</td>\n",
       "      <td>0</td>\n",
       "      <td>0</td>\n",
       "      <td>0</td>\n",
       "    </tr>\n",
       "    <tr>\n",
       "      <th>2</th>\n",
       "      <td>12</td>\n",
       "      <td>Indore</td>\n",
       "      <td>MEDIUM</td>\n",
       "      <td>0.157855</td>\n",
       "      <td>0.891555</td>\n",
       "      <td>0.815583</td>\n",
       "      <td>0.925</td>\n",
       "      <td>0.656388</td>\n",
       "      <td>0.477987</td>\n",
       "      <td>0.089945</td>\n",
       "      <td>...</td>\n",
       "      <td>0</td>\n",
       "      <td>0</td>\n",
       "      <td>0</td>\n",
       "      <td>0</td>\n",
       "      <td>0</td>\n",
       "      <td>0</td>\n",
       "      <td>0</td>\n",
       "      <td>0</td>\n",
       "      <td>0</td>\n",
       "      <td>0</td>\n",
       "    </tr>\n",
       "    <tr>\n",
       "      <th>3</th>\n",
       "      <td>14</td>\n",
       "      <td>Bhopal</td>\n",
       "      <td>LOW</td>\n",
       "      <td>0.144524</td>\n",
       "      <td>0.888676</td>\n",
       "      <td>0.815142</td>\n",
       "      <td>0.875</td>\n",
       "      <td>0.497797</td>\n",
       "      <td>0.452830</td>\n",
       "      <td>0.089945</td>\n",
       "      <td>...</td>\n",
       "      <td>0</td>\n",
       "      <td>0</td>\n",
       "      <td>0</td>\n",
       "      <td>0</td>\n",
       "      <td>0</td>\n",
       "      <td>0</td>\n",
       "      <td>0</td>\n",
       "      <td>0</td>\n",
       "      <td>0</td>\n",
       "      <td>0</td>\n",
       "    </tr>\n",
       "    <tr>\n",
       "      <th>4</th>\n",
       "      <td>15</td>\n",
       "      <td>Visakhapatnam</td>\n",
       "      <td>HIGH</td>\n",
       "      <td>0.138891</td>\n",
       "      <td>0.855086</td>\n",
       "      <td>0.812867</td>\n",
       "      <td>0.650</td>\n",
       "      <td>0.524229</td>\n",
       "      <td>0.320755</td>\n",
       "      <td>0.050772</td>\n",
       "      <td>...</td>\n",
       "      <td>0</td>\n",
       "      <td>0</td>\n",
       "      <td>0</td>\n",
       "      <td>0</td>\n",
       "      <td>0</td>\n",
       "      <td>0</td>\n",
       "      <td>0</td>\n",
       "      <td>0</td>\n",
       "      <td>0</td>\n",
       "      <td>0</td>\n",
       "    </tr>\n",
       "  </tbody>\n",
       "</table>\n",
       "<p>5 rows × 79 columns</p>\n",
       "</div>"
      ],
      "text/plain": [
       "   Unnamed: 0           City     SWM  Population [2011]  Sex Ratio  \\\n",
       "0          10         Kanpur    HIGH           0.222252   0.826296   \n",
       "1          11         Nagpur  MEDIUM           0.193345   0.842610   \n",
       "2          12         Indore  MEDIUM           0.157855   0.891555   \n",
       "3          14         Bhopal     LOW           0.144524   0.888676   \n",
       "4          15  Visakhapatnam    HIGH           0.138891   0.855086   \n",
       "\n",
       "   Median Age  Avg Temp  Toilets Avl  # of hospitals  Foreign Visitors  ...  \\\n",
       "0    0.812500     0.725     0.594714        0.591195          0.662594  ...   \n",
       "1    0.813673     0.875     0.440529        0.327044          0.941130  ...   \n",
       "2    0.815583     0.925     0.656388        0.477987          0.089945  ...   \n",
       "3    0.815142     0.875     0.497797        0.452830          0.089945  ...   \n",
       "4    0.812867     0.650     0.524229        0.320755          0.050772  ...   \n",
       "\n",
       "   Punjab  Rajasthan  Sikkim  Tamil Nadu  Tamil nadu  Telangana  Tripura  \\\n",
       "0       0          0       0           0           0          0        0   \n",
       "1       0          0       0           0           0          0        0   \n",
       "2       0          0       0           0           0          0        0   \n",
       "3       0          0       0           0           0          0        0   \n",
       "4       0          0       0           0           0          0        0   \n",
       "\n",
       "   Uttar Pradesh  Uttarakhand  West Bengal  \n",
       "0              1            0            0  \n",
       "1              0            0            0  \n",
       "2              0            0            0  \n",
       "3              0            0            0  \n",
       "4              0            0            0  \n",
       "\n",
       "[5 rows x 79 columns]"
      ]
     },
     "execution_count": 2,
     "metadata": {},
     "output_type": "execute_result"
    }
   ],
   "source": [
    "df = pd.read_excel('final_training_data2.xlsx')\n",
    "df.head()"
   ]
  },
  {
   "cell_type": "code",
   "execution_count": 3,
   "metadata": {},
   "outputs": [],
   "source": [
    "df.drop(['Unnamed: 0','SWM','City'],axis = 1, inplace = True)"
   ]
  },
  {
   "cell_type": "code",
   "execution_count": 4,
   "metadata": {},
   "outputs": [
    {
     "data": {
      "text/html": [
       "<div>\n",
       "<style scoped>\n",
       "    .dataframe tbody tr th:only-of-type {\n",
       "        vertical-align: middle;\n",
       "    }\n",
       "\n",
       "    .dataframe tbody tr th {\n",
       "        vertical-align: top;\n",
       "    }\n",
       "\n",
       "    .dataframe thead th {\n",
       "        text-align: right;\n",
       "    }\n",
       "</style>\n",
       "<table border=\"1\" class=\"dataframe\">\n",
       "  <thead>\n",
       "    <tr style=\"text-align: right;\">\n",
       "      <th></th>\n",
       "      <th>Population [2011]</th>\n",
       "      <th>Sex Ratio</th>\n",
       "      <th>Median Age</th>\n",
       "      <th>Avg Temp</th>\n",
       "      <th>Toilets Avl</th>\n",
       "      <th># of hospitals</th>\n",
       "      <th>Foreign Visitors</th>\n",
       "      <th>Covid Cases</th>\n",
       "      <th>SWM-HIGH</th>\n",
       "      <th>SWM-LOW</th>\n",
       "      <th>...</th>\n",
       "      <th>Punjab</th>\n",
       "      <th>Rajasthan</th>\n",
       "      <th>Sikkim</th>\n",
       "      <th>Tamil Nadu</th>\n",
       "      <th>Tamil nadu</th>\n",
       "      <th>Telangana</th>\n",
       "      <th>Tripura</th>\n",
       "      <th>Uttar Pradesh</th>\n",
       "      <th>Uttarakhand</th>\n",
       "      <th>West Bengal</th>\n",
       "    </tr>\n",
       "  </thead>\n",
       "  <tbody>\n",
       "    <tr>\n",
       "      <th>0</th>\n",
       "      <td>0.222252</td>\n",
       "      <td>0.826296</td>\n",
       "      <td>0.812500</td>\n",
       "      <td>0.725</td>\n",
       "      <td>0.594714</td>\n",
       "      <td>0.591195</td>\n",
       "      <td>0.662594</td>\n",
       "      <td>22413</td>\n",
       "      <td>1</td>\n",
       "      <td>0</td>\n",
       "      <td>...</td>\n",
       "      <td>0</td>\n",
       "      <td>0</td>\n",
       "      <td>0</td>\n",
       "      <td>0</td>\n",
       "      <td>0</td>\n",
       "      <td>0</td>\n",
       "      <td>0</td>\n",
       "      <td>1</td>\n",
       "      <td>0</td>\n",
       "      <td>0</td>\n",
       "    </tr>\n",
       "    <tr>\n",
       "      <th>1</th>\n",
       "      <td>0.193345</td>\n",
       "      <td>0.842610</td>\n",
       "      <td>0.813673</td>\n",
       "      <td>0.875</td>\n",
       "      <td>0.440529</td>\n",
       "      <td>0.327044</td>\n",
       "      <td>0.941130</td>\n",
       "      <td>44700</td>\n",
       "      <td>0</td>\n",
       "      <td>0</td>\n",
       "      <td>...</td>\n",
       "      <td>0</td>\n",
       "      <td>0</td>\n",
       "      <td>0</td>\n",
       "      <td>0</td>\n",
       "      <td>0</td>\n",
       "      <td>0</td>\n",
       "      <td>0</td>\n",
       "      <td>0</td>\n",
       "      <td>0</td>\n",
       "      <td>0</td>\n",
       "    </tr>\n",
       "    <tr>\n",
       "      <th>2</th>\n",
       "      <td>0.157855</td>\n",
       "      <td>0.891555</td>\n",
       "      <td>0.815583</td>\n",
       "      <td>0.925</td>\n",
       "      <td>0.656388</td>\n",
       "      <td>0.477987</td>\n",
       "      <td>0.089945</td>\n",
       "      <td>15764</td>\n",
       "      <td>0</td>\n",
       "      <td>0</td>\n",
       "      <td>...</td>\n",
       "      <td>0</td>\n",
       "      <td>0</td>\n",
       "      <td>0</td>\n",
       "      <td>0</td>\n",
       "      <td>0</td>\n",
       "      <td>0</td>\n",
       "      <td>0</td>\n",
       "      <td>0</td>\n",
       "      <td>0</td>\n",
       "      <td>0</td>\n",
       "    </tr>\n",
       "    <tr>\n",
       "      <th>3</th>\n",
       "      <td>0.144524</td>\n",
       "      <td>0.888676</td>\n",
       "      <td>0.815142</td>\n",
       "      <td>0.875</td>\n",
       "      <td>0.497797</td>\n",
       "      <td>0.452830</td>\n",
       "      <td>0.089945</td>\n",
       "      <td>12446</td>\n",
       "      <td>0</td>\n",
       "      <td>1</td>\n",
       "      <td>...</td>\n",
       "      <td>0</td>\n",
       "      <td>0</td>\n",
       "      <td>0</td>\n",
       "      <td>0</td>\n",
       "      <td>0</td>\n",
       "      <td>0</td>\n",
       "      <td>0</td>\n",
       "      <td>0</td>\n",
       "      <td>0</td>\n",
       "      <td>0</td>\n",
       "    </tr>\n",
       "    <tr>\n",
       "      <th>4</th>\n",
       "      <td>0.138891</td>\n",
       "      <td>0.855086</td>\n",
       "      <td>0.812867</td>\n",
       "      <td>0.650</td>\n",
       "      <td>0.524229</td>\n",
       "      <td>0.320755</td>\n",
       "      <td>0.050772</td>\n",
       "      <td>21374</td>\n",
       "      <td>1</td>\n",
       "      <td>0</td>\n",
       "      <td>...</td>\n",
       "      <td>0</td>\n",
       "      <td>0</td>\n",
       "      <td>0</td>\n",
       "      <td>0</td>\n",
       "      <td>0</td>\n",
       "      <td>0</td>\n",
       "      <td>0</td>\n",
       "      <td>0</td>\n",
       "      <td>0</td>\n",
       "      <td>0</td>\n",
       "    </tr>\n",
       "  </tbody>\n",
       "</table>\n",
       "<p>5 rows × 76 columns</p>\n",
       "</div>"
      ],
      "text/plain": [
       "   Population [2011]  Sex Ratio  Median Age  Avg Temp  Toilets Avl  \\\n",
       "0           0.222252   0.826296    0.812500     0.725     0.594714   \n",
       "1           0.193345   0.842610    0.813673     0.875     0.440529   \n",
       "2           0.157855   0.891555    0.815583     0.925     0.656388   \n",
       "3           0.144524   0.888676    0.815142     0.875     0.497797   \n",
       "4           0.138891   0.855086    0.812867     0.650     0.524229   \n",
       "\n",
       "   # of hospitals  Foreign Visitors  Covid Cases  SWM-HIGH  SWM-LOW  ...  \\\n",
       "0        0.591195          0.662594        22413         1        0  ...   \n",
       "1        0.327044          0.941130        44700         0        0  ...   \n",
       "2        0.477987          0.089945        15764         0        0  ...   \n",
       "3        0.452830          0.089945        12446         0        1  ...   \n",
       "4        0.320755          0.050772        21374         1        0  ...   \n",
       "\n",
       "   Punjab  Rajasthan  Sikkim  Tamil Nadu  Tamil nadu  Telangana  Tripura  \\\n",
       "0       0          0       0           0           0          0        0   \n",
       "1       0          0       0           0           0          0        0   \n",
       "2       0          0       0           0           0          0        0   \n",
       "3       0          0       0           0           0          0        0   \n",
       "4       0          0       0           0           0          0        0   \n",
       "\n",
       "   Uttar Pradesh  Uttarakhand  West Bengal  \n",
       "0              1            0            0  \n",
       "1              0            0            0  \n",
       "2              0            0            0  \n",
       "3              0            0            0  \n",
       "4              0            0            0  \n",
       "\n",
       "[5 rows x 76 columns]"
      ]
     },
     "execution_count": 4,
     "metadata": {},
     "output_type": "execute_result"
    }
   ],
   "source": [
    "df.head()"
   ]
  },
  {
   "cell_type": "code",
   "execution_count": 5,
   "metadata": {},
   "outputs": [
    {
     "data": {
      "text/plain": [
       "0    22413\n",
       "1    44700\n",
       "2    15764\n",
       "3    12446\n",
       "4    21374\n",
       "Name: Covid Cases, dtype: int64"
      ]
     },
     "execution_count": 5,
     "metadata": {},
     "output_type": "execute_result"
    }
   ],
   "source": [
    "y_data = df['Covid Cases']\n",
    "y_data.head()"
   ]
  },
  {
   "cell_type": "code",
   "execution_count": 6,
   "metadata": {},
   "outputs": [
    {
     "data": {
      "text/html": [
       "<div>\n",
       "<style scoped>\n",
       "    .dataframe tbody tr th:only-of-type {\n",
       "        vertical-align: middle;\n",
       "    }\n",
       "\n",
       "    .dataframe tbody tr th {\n",
       "        vertical-align: top;\n",
       "    }\n",
       "\n",
       "    .dataframe thead th {\n",
       "        text-align: right;\n",
       "    }\n",
       "</style>\n",
       "<table border=\"1\" class=\"dataframe\">\n",
       "  <thead>\n",
       "    <tr style=\"text-align: right;\">\n",
       "      <th></th>\n",
       "      <th>Population [2011]</th>\n",
       "      <th>Sex Ratio</th>\n",
       "      <th>Median Age</th>\n",
       "      <th>Avg Temp</th>\n",
       "      <th>Toilets Avl</th>\n",
       "      <th># of hospitals</th>\n",
       "      <th>Foreign Visitors</th>\n",
       "      <th>SWM-HIGH</th>\n",
       "      <th>SWM-LOW</th>\n",
       "      <th>SWM-MEDIUM</th>\n",
       "      <th>...</th>\n",
       "      <th>Punjab</th>\n",
       "      <th>Rajasthan</th>\n",
       "      <th>Sikkim</th>\n",
       "      <th>Tamil Nadu</th>\n",
       "      <th>Tamil nadu</th>\n",
       "      <th>Telangana</th>\n",
       "      <th>Tripura</th>\n",
       "      <th>Uttar Pradesh</th>\n",
       "      <th>Uttarakhand</th>\n",
       "      <th>West Bengal</th>\n",
       "    </tr>\n",
       "  </thead>\n",
       "  <tbody>\n",
       "    <tr>\n",
       "      <th>0</th>\n",
       "      <td>0.222252</td>\n",
       "      <td>0.826296</td>\n",
       "      <td>0.812500</td>\n",
       "      <td>0.725</td>\n",
       "      <td>0.594714</td>\n",
       "      <td>0.591195</td>\n",
       "      <td>0.662594</td>\n",
       "      <td>1</td>\n",
       "      <td>0</td>\n",
       "      <td>0</td>\n",
       "      <td>...</td>\n",
       "      <td>0</td>\n",
       "      <td>0</td>\n",
       "      <td>0</td>\n",
       "      <td>0</td>\n",
       "      <td>0</td>\n",
       "      <td>0</td>\n",
       "      <td>0</td>\n",
       "      <td>1</td>\n",
       "      <td>0</td>\n",
       "      <td>0</td>\n",
       "    </tr>\n",
       "    <tr>\n",
       "      <th>1</th>\n",
       "      <td>0.193345</td>\n",
       "      <td>0.842610</td>\n",
       "      <td>0.813673</td>\n",
       "      <td>0.875</td>\n",
       "      <td>0.440529</td>\n",
       "      <td>0.327044</td>\n",
       "      <td>0.941130</td>\n",
       "      <td>0</td>\n",
       "      <td>0</td>\n",
       "      <td>1</td>\n",
       "      <td>...</td>\n",
       "      <td>0</td>\n",
       "      <td>0</td>\n",
       "      <td>0</td>\n",
       "      <td>0</td>\n",
       "      <td>0</td>\n",
       "      <td>0</td>\n",
       "      <td>0</td>\n",
       "      <td>0</td>\n",
       "      <td>0</td>\n",
       "      <td>0</td>\n",
       "    </tr>\n",
       "    <tr>\n",
       "      <th>2</th>\n",
       "      <td>0.157855</td>\n",
       "      <td>0.891555</td>\n",
       "      <td>0.815583</td>\n",
       "      <td>0.925</td>\n",
       "      <td>0.656388</td>\n",
       "      <td>0.477987</td>\n",
       "      <td>0.089945</td>\n",
       "      <td>0</td>\n",
       "      <td>0</td>\n",
       "      <td>1</td>\n",
       "      <td>...</td>\n",
       "      <td>0</td>\n",
       "      <td>0</td>\n",
       "      <td>0</td>\n",
       "      <td>0</td>\n",
       "      <td>0</td>\n",
       "      <td>0</td>\n",
       "      <td>0</td>\n",
       "      <td>0</td>\n",
       "      <td>0</td>\n",
       "      <td>0</td>\n",
       "    </tr>\n",
       "    <tr>\n",
       "      <th>3</th>\n",
       "      <td>0.144524</td>\n",
       "      <td>0.888676</td>\n",
       "      <td>0.815142</td>\n",
       "      <td>0.875</td>\n",
       "      <td>0.497797</td>\n",
       "      <td>0.452830</td>\n",
       "      <td>0.089945</td>\n",
       "      <td>0</td>\n",
       "      <td>1</td>\n",
       "      <td>0</td>\n",
       "      <td>...</td>\n",
       "      <td>0</td>\n",
       "      <td>0</td>\n",
       "      <td>0</td>\n",
       "      <td>0</td>\n",
       "      <td>0</td>\n",
       "      <td>0</td>\n",
       "      <td>0</td>\n",
       "      <td>0</td>\n",
       "      <td>0</td>\n",
       "      <td>0</td>\n",
       "    </tr>\n",
       "    <tr>\n",
       "      <th>4</th>\n",
       "      <td>0.138891</td>\n",
       "      <td>0.855086</td>\n",
       "      <td>0.812867</td>\n",
       "      <td>0.650</td>\n",
       "      <td>0.524229</td>\n",
       "      <td>0.320755</td>\n",
       "      <td>0.050772</td>\n",
       "      <td>1</td>\n",
       "      <td>0</td>\n",
       "      <td>0</td>\n",
       "      <td>...</td>\n",
       "      <td>0</td>\n",
       "      <td>0</td>\n",
       "      <td>0</td>\n",
       "      <td>0</td>\n",
       "      <td>0</td>\n",
       "      <td>0</td>\n",
       "      <td>0</td>\n",
       "      <td>0</td>\n",
       "      <td>0</td>\n",
       "      <td>0</td>\n",
       "    </tr>\n",
       "  </tbody>\n",
       "</table>\n",
       "<p>5 rows × 75 columns</p>\n",
       "</div>"
      ],
      "text/plain": [
       "   Population [2011]  Sex Ratio  Median Age  Avg Temp  Toilets Avl  \\\n",
       "0           0.222252   0.826296    0.812500     0.725     0.594714   \n",
       "1           0.193345   0.842610    0.813673     0.875     0.440529   \n",
       "2           0.157855   0.891555    0.815583     0.925     0.656388   \n",
       "3           0.144524   0.888676    0.815142     0.875     0.497797   \n",
       "4           0.138891   0.855086    0.812867     0.650     0.524229   \n",
       "\n",
       "   # of hospitals  Foreign Visitors  SWM-HIGH  SWM-LOW  SWM-MEDIUM  ...  \\\n",
       "0        0.591195          0.662594         1        0           0  ...   \n",
       "1        0.327044          0.941130         0        0           1  ...   \n",
       "2        0.477987          0.089945         0        0           1  ...   \n",
       "3        0.452830          0.089945         0        1           0  ...   \n",
       "4        0.320755          0.050772         1        0           0  ...   \n",
       "\n",
       "   Punjab  Rajasthan  Sikkim  Tamil Nadu  Tamil nadu  Telangana  Tripura  \\\n",
       "0       0          0       0           0           0          0        0   \n",
       "1       0          0       0           0           0          0        0   \n",
       "2       0          0       0           0           0          0        0   \n",
       "3       0          0       0           0           0          0        0   \n",
       "4       0          0       0           0           0          0        0   \n",
       "\n",
       "   Uttar Pradesh  Uttarakhand  West Bengal  \n",
       "0              1            0            0  \n",
       "1              0            0            0  \n",
       "2              0            0            0  \n",
       "3              0            0            0  \n",
       "4              0            0            0  \n",
       "\n",
       "[5 rows x 75 columns]"
      ]
     },
     "execution_count": 6,
     "metadata": {},
     "output_type": "execute_result"
    }
   ],
   "source": [
    "x_data = df.drop(['Covid Cases'], axis =1)\n",
    "x_data.head()"
   ]
  },
  {
   "cell_type": "code",
   "execution_count": null,
   "metadata": {},
   "outputs": [],
   "source": []
  },
  {
   "cell_type": "markdown",
   "metadata": {},
   "source": [
    "## Train Val split"
   ]
  },
  {
   "cell_type": "code",
   "execution_count": 7,
   "metadata": {},
   "outputs": [],
   "source": [
    "x_train, x_test, y_train, y_test = train_test_split(x_data, y_data, test_size=0.15, random_state=3)"
   ]
  },
  {
   "cell_type": "code",
   "execution_count": 8,
   "metadata": {},
   "outputs": [
    {
     "data": {
      "text/html": [
       "<div>\n",
       "<style scoped>\n",
       "    .dataframe tbody tr th:only-of-type {\n",
       "        vertical-align: middle;\n",
       "    }\n",
       "\n",
       "    .dataframe tbody tr th {\n",
       "        vertical-align: top;\n",
       "    }\n",
       "\n",
       "    .dataframe thead th {\n",
       "        text-align: right;\n",
       "    }\n",
       "</style>\n",
       "<table border=\"1\" class=\"dataframe\">\n",
       "  <thead>\n",
       "    <tr style=\"text-align: right;\">\n",
       "      <th></th>\n",
       "      <th>Population [2011]</th>\n",
       "      <th>Sex Ratio</th>\n",
       "      <th>Median Age</th>\n",
       "      <th>Avg Temp</th>\n",
       "      <th>Toilets Avl</th>\n",
       "      <th># of hospitals</th>\n",
       "      <th>Foreign Visitors</th>\n",
       "      <th>SWM-HIGH</th>\n",
       "      <th>SWM-LOW</th>\n",
       "      <th>SWM-MEDIUM</th>\n",
       "      <th>...</th>\n",
       "      <th>Punjab</th>\n",
       "      <th>Rajasthan</th>\n",
       "      <th>Sikkim</th>\n",
       "      <th>Tamil Nadu</th>\n",
       "      <th>Tamil nadu</th>\n",
       "      <th>Telangana</th>\n",
       "      <th>Tripura</th>\n",
       "      <th>Uttar Pradesh</th>\n",
       "      <th>Uttarakhand</th>\n",
       "      <th>West Bengal</th>\n",
       "    </tr>\n",
       "  </thead>\n",
       "  <tbody>\n",
       "    <tr>\n",
       "      <th>668</th>\n",
       "      <td>0.003404</td>\n",
       "      <td>0.825336</td>\n",
       "      <td>0.87500</td>\n",
       "      <td>1.000</td>\n",
       "      <td>0.312775</td>\n",
       "      <td>0.176101</td>\n",
       "      <td>0.060830</td>\n",
       "      <td>0</td>\n",
       "      <td>0</td>\n",
       "      <td>1</td>\n",
       "      <td>...</td>\n",
       "      <td>0</td>\n",
       "      <td>0</td>\n",
       "      <td>0</td>\n",
       "      <td>0</td>\n",
       "      <td>0</td>\n",
       "      <td>0</td>\n",
       "      <td>0</td>\n",
       "      <td>0</td>\n",
       "      <td>0</td>\n",
       "      <td>0</td>\n",
       "    </tr>\n",
       "    <tr>\n",
       "      <th>264</th>\n",
       "      <td>0.032384</td>\n",
       "      <td>0.866603</td>\n",
       "      <td>0.71875</td>\n",
       "      <td>0.650</td>\n",
       "      <td>0.497797</td>\n",
       "      <td>0.427673</td>\n",
       "      <td>0.035815</td>\n",
       "      <td>0</td>\n",
       "      <td>0</td>\n",
       "      <td>1</td>\n",
       "      <td>...</td>\n",
       "      <td>0</td>\n",
       "      <td>0</td>\n",
       "      <td>0</td>\n",
       "      <td>0</td>\n",
       "      <td>0</td>\n",
       "      <td>0</td>\n",
       "      <td>0</td>\n",
       "      <td>0</td>\n",
       "      <td>0</td>\n",
       "      <td>0</td>\n",
       "    </tr>\n",
       "    <tr>\n",
       "      <th>559</th>\n",
       "      <td>0.004184</td>\n",
       "      <td>0.876200</td>\n",
       "      <td>0.87500</td>\n",
       "      <td>0.725</td>\n",
       "      <td>0.251101</td>\n",
       "      <td>0.169811</td>\n",
       "      <td>0.089945</td>\n",
       "      <td>1</td>\n",
       "      <td>0</td>\n",
       "      <td>0</td>\n",
       "      <td>...</td>\n",
       "      <td>0</td>\n",
       "      <td>0</td>\n",
       "      <td>0</td>\n",
       "      <td>0</td>\n",
       "      <td>0</td>\n",
       "      <td>0</td>\n",
       "      <td>0</td>\n",
       "      <td>0</td>\n",
       "      <td>0</td>\n",
       "      <td>0</td>\n",
       "    </tr>\n",
       "    <tr>\n",
       "      <th>738</th>\n",
       "      <td>0.002969</td>\n",
       "      <td>0.906910</td>\n",
       "      <td>0.71875</td>\n",
       "      <td>0.900</td>\n",
       "      <td>0.273128</td>\n",
       "      <td>0.138365</td>\n",
       "      <td>0.317949</td>\n",
       "      <td>0</td>\n",
       "      <td>0</td>\n",
       "      <td>1</td>\n",
       "      <td>...</td>\n",
       "      <td>0</td>\n",
       "      <td>0</td>\n",
       "      <td>0</td>\n",
       "      <td>0</td>\n",
       "      <td>0</td>\n",
       "      <td>0</td>\n",
       "      <td>0</td>\n",
       "      <td>0</td>\n",
       "      <td>0</td>\n",
       "      <td>1</td>\n",
       "    </tr>\n",
       "    <tr>\n",
       "      <th>78</th>\n",
       "      <td>0.040402</td>\n",
       "      <td>0.833973</td>\n",
       "      <td>0.90625</td>\n",
       "      <td>0.750</td>\n",
       "      <td>0.643172</td>\n",
       "      <td>0.528302</td>\n",
       "      <td>0.941130</td>\n",
       "      <td>1</td>\n",
       "      <td>0</td>\n",
       "      <td>0</td>\n",
       "      <td>...</td>\n",
       "      <td>0</td>\n",
       "      <td>0</td>\n",
       "      <td>0</td>\n",
       "      <td>0</td>\n",
       "      <td>0</td>\n",
       "      <td>0</td>\n",
       "      <td>0</td>\n",
       "      <td>0</td>\n",
       "      <td>0</td>\n",
       "      <td>0</td>\n",
       "    </tr>\n",
       "  </tbody>\n",
       "</table>\n",
       "<p>5 rows × 75 columns</p>\n",
       "</div>"
      ],
      "text/plain": [
       "     Population [2011]  Sex Ratio  Median Age  Avg Temp  Toilets Avl  \\\n",
       "668           0.003404   0.825336     0.87500     1.000     0.312775   \n",
       "264           0.032384   0.866603     0.71875     0.650     0.497797   \n",
       "559           0.004184   0.876200     0.87500     0.725     0.251101   \n",
       "738           0.002969   0.906910     0.71875     0.900     0.273128   \n",
       "78            0.040402   0.833973     0.90625     0.750     0.643172   \n",
       "\n",
       "     # of hospitals  Foreign Visitors  SWM-HIGH  SWM-LOW  SWM-MEDIUM  ...  \\\n",
       "668        0.176101          0.060830         0        0           1  ...   \n",
       "264        0.427673          0.035815         0        0           1  ...   \n",
       "559        0.169811          0.089945         1        0           0  ...   \n",
       "738        0.138365          0.317949         0        0           1  ...   \n",
       "78         0.528302          0.941130         1        0           0  ...   \n",
       "\n",
       "     Punjab  Rajasthan  Sikkim  Tamil Nadu  Tamil nadu  Telangana  Tripura  \\\n",
       "668       0          0       0           0           0          0        0   \n",
       "264       0          0       0           0           0          0        0   \n",
       "559       0          0       0           0           0          0        0   \n",
       "738       0          0       0           0           0          0        0   \n",
       "78        0          0       0           0           0          0        0   \n",
       "\n",
       "     Uttar Pradesh  Uttarakhand  West Bengal  \n",
       "668              0            0            0  \n",
       "264              0            0            0  \n",
       "559              0            0            0  \n",
       "738              0            0            1  \n",
       "78               0            0            0  \n",
       "\n",
       "[5 rows x 75 columns]"
      ]
     },
     "execution_count": 8,
     "metadata": {},
     "output_type": "execute_result"
    }
   ],
   "source": [
    "x_train.head()"
   ]
  },
  {
   "cell_type": "code",
   "execution_count": 9,
   "metadata": {},
   "outputs": [
    {
     "data": {
      "text/html": [
       "<div>\n",
       "<style scoped>\n",
       "    .dataframe tbody tr th:only-of-type {\n",
       "        vertical-align: middle;\n",
       "    }\n",
       "\n",
       "    .dataframe tbody tr th {\n",
       "        vertical-align: top;\n",
       "    }\n",
       "\n",
       "    .dataframe thead th {\n",
       "        text-align: right;\n",
       "    }\n",
       "</style>\n",
       "<table border=\"1\" class=\"dataframe\">\n",
       "  <thead>\n",
       "    <tr style=\"text-align: right;\">\n",
       "      <th></th>\n",
       "      <th>Population [2011]</th>\n",
       "      <th>Sex Ratio</th>\n",
       "      <th>Median Age</th>\n",
       "      <th>Avg Temp</th>\n",
       "      <th>Toilets Avl</th>\n",
       "      <th># of hospitals</th>\n",
       "      <th>Foreign Visitors</th>\n",
       "      <th>SWM-HIGH</th>\n",
       "      <th>SWM-LOW</th>\n",
       "      <th>SWM-MEDIUM</th>\n",
       "      <th>...</th>\n",
       "      <th>Punjab</th>\n",
       "      <th>Rajasthan</th>\n",
       "      <th>Sikkim</th>\n",
       "      <th>Tamil Nadu</th>\n",
       "      <th>Tamil nadu</th>\n",
       "      <th>Telangana</th>\n",
       "      <th>Tripura</th>\n",
       "      <th>Uttar Pradesh</th>\n",
       "      <th>Uttarakhand</th>\n",
       "      <th>West Bengal</th>\n",
       "    </tr>\n",
       "  </thead>\n",
       "  <tbody>\n",
       "    <tr>\n",
       "      <th>112</th>\n",
       "      <td>0.028277</td>\n",
       "      <td>0.882917</td>\n",
       "      <td>0.90625</td>\n",
       "      <td>0.650</td>\n",
       "      <td>0.612335</td>\n",
       "      <td>0.383648</td>\n",
       "      <td>0.197181</td>\n",
       "      <td>0</td>\n",
       "      <td>1</td>\n",
       "      <td>0</td>\n",
       "      <td>...</td>\n",
       "      <td>0</td>\n",
       "      <td>0</td>\n",
       "      <td>0</td>\n",
       "      <td>0</td>\n",
       "      <td>0</td>\n",
       "      <td>0</td>\n",
       "      <td>0</td>\n",
       "      <td>0</td>\n",
       "      <td>0</td>\n",
       "      <td>0</td>\n",
       "    </tr>\n",
       "    <tr>\n",
       "      <th>635</th>\n",
       "      <td>0.003658</td>\n",
       "      <td>0.872361</td>\n",
       "      <td>0.71875</td>\n",
       "      <td>1.000</td>\n",
       "      <td>0.436123</td>\n",
       "      <td>0.188679</td>\n",
       "      <td>0.035815</td>\n",
       "      <td>0</td>\n",
       "      <td>0</td>\n",
       "      <td>1</td>\n",
       "      <td>...</td>\n",
       "      <td>0</td>\n",
       "      <td>0</td>\n",
       "      <td>0</td>\n",
       "      <td>0</td>\n",
       "      <td>0</td>\n",
       "      <td>0</td>\n",
       "      <td>0</td>\n",
       "      <td>0</td>\n",
       "      <td>0</td>\n",
       "      <td>0</td>\n",
       "    </tr>\n",
       "    <tr>\n",
       "      <th>663</th>\n",
       "      <td>0.003437</td>\n",
       "      <td>0.830134</td>\n",
       "      <td>0.81250</td>\n",
       "      <td>0.975</td>\n",
       "      <td>0.431718</td>\n",
       "      <td>0.062893</td>\n",
       "      <td>0.060830</td>\n",
       "      <td>1</td>\n",
       "      <td>0</td>\n",
       "      <td>0</td>\n",
       "      <td>...</td>\n",
       "      <td>0</td>\n",
       "      <td>0</td>\n",
       "      <td>0</td>\n",
       "      <td>0</td>\n",
       "      <td>0</td>\n",
       "      <td>0</td>\n",
       "      <td>0</td>\n",
       "      <td>0</td>\n",
       "      <td>0</td>\n",
       "      <td>0</td>\n",
       "    </tr>\n",
       "    <tr>\n",
       "      <th>232</th>\n",
       "      <td>0.014868</td>\n",
       "      <td>0.812860</td>\n",
       "      <td>0.81250</td>\n",
       "      <td>0.625</td>\n",
       "      <td>0.577093</td>\n",
       "      <td>0.610063</td>\n",
       "      <td>0.060830</td>\n",
       "      <td>0</td>\n",
       "      <td>1</td>\n",
       "      <td>0</td>\n",
       "      <td>...</td>\n",
       "      <td>0</td>\n",
       "      <td>0</td>\n",
       "      <td>0</td>\n",
       "      <td>0</td>\n",
       "      <td>0</td>\n",
       "      <td>0</td>\n",
       "      <td>0</td>\n",
       "      <td>0</td>\n",
       "      <td>0</td>\n",
       "      <td>0</td>\n",
       "    </tr>\n",
       "    <tr>\n",
       "      <th>188</th>\n",
       "      <td>0.017747</td>\n",
       "      <td>0.855086</td>\n",
       "      <td>0.71875</td>\n",
       "      <td>0.750</td>\n",
       "      <td>0.497797</td>\n",
       "      <td>0.496855</td>\n",
       "      <td>0.308591</td>\n",
       "      <td>0</td>\n",
       "      <td>1</td>\n",
       "      <td>0</td>\n",
       "      <td>...</td>\n",
       "      <td>0</td>\n",
       "      <td>0</td>\n",
       "      <td>0</td>\n",
       "      <td>0</td>\n",
       "      <td>0</td>\n",
       "      <td>0</td>\n",
       "      <td>0</td>\n",
       "      <td>1</td>\n",
       "      <td>0</td>\n",
       "      <td>0</td>\n",
       "    </tr>\n",
       "  </tbody>\n",
       "</table>\n",
       "<p>5 rows × 75 columns</p>\n",
       "</div>"
      ],
      "text/plain": [
       "     Population [2011]  Sex Ratio  Median Age  Avg Temp  Toilets Avl  \\\n",
       "112           0.028277   0.882917     0.90625     0.650     0.612335   \n",
       "635           0.003658   0.872361     0.71875     1.000     0.436123   \n",
       "663           0.003437   0.830134     0.81250     0.975     0.431718   \n",
       "232           0.014868   0.812860     0.81250     0.625     0.577093   \n",
       "188           0.017747   0.855086     0.71875     0.750     0.497797   \n",
       "\n",
       "     # of hospitals  Foreign Visitors  SWM-HIGH  SWM-LOW  SWM-MEDIUM  ...  \\\n",
       "112        0.383648          0.197181         0        1           0  ...   \n",
       "635        0.188679          0.035815         0        0           1  ...   \n",
       "663        0.062893          0.060830         1        0           0  ...   \n",
       "232        0.610063          0.060830         0        1           0  ...   \n",
       "188        0.496855          0.308591         0        1           0  ...   \n",
       "\n",
       "     Punjab  Rajasthan  Sikkim  Tamil Nadu  Tamil nadu  Telangana  Tripura  \\\n",
       "112       0          0       0           0           0          0        0   \n",
       "635       0          0       0           0           0          0        0   \n",
       "663       0          0       0           0           0          0        0   \n",
       "232       0          0       0           0           0          0        0   \n",
       "188       0          0       0           0           0          0        0   \n",
       "\n",
       "     Uttar Pradesh  Uttarakhand  West Bengal  \n",
       "112              0            0            0  \n",
       "635              0            0            0  \n",
       "663              0            0            0  \n",
       "232              0            0            0  \n",
       "188              1            0            0  \n",
       "\n",
       "[5 rows x 75 columns]"
      ]
     },
     "execution_count": 9,
     "metadata": {},
     "output_type": "execute_result"
    }
   ],
   "source": [
    "x_test.head()"
   ]
  },
  {
   "cell_type": "code",
   "execution_count": 10,
   "metadata": {},
   "outputs": [
    {
     "data": {
      "text/plain": [
       "111"
      ]
     },
     "execution_count": 10,
     "metadata": {},
     "output_type": "execute_result"
    }
   ],
   "source": [
    "len(x_test)"
   ]
  },
  {
   "cell_type": "code",
   "execution_count": 11,
   "metadata": {},
   "outputs": [
    {
     "data": {
      "text/plain": [
       "668     2406\n",
       "264     8300\n",
       "559     2554\n",
       "738     2172\n",
       "78     10070\n",
       "Name: Covid Cases, dtype: int64"
      ]
     },
     "execution_count": 11,
     "metadata": {},
     "output_type": "execute_result"
    }
   ],
   "source": [
    "y_train.head()"
   ]
  },
  {
   "cell_type": "code",
   "execution_count": 12,
   "metadata": {},
   "outputs": [
    {
     "data": {
      "text/plain": [
       "112    10662\n",
       "635     2089\n",
       "663     2247\n",
       "232     8800\n",
       "188     1845\n",
       "Name: Covid Cases, dtype: int64"
      ]
     },
     "execution_count": 12,
     "metadata": {},
     "output_type": "execute_result"
    }
   ],
   "source": [
    "y_test.head()"
   ]
  },
  {
   "cell_type": "markdown",
   "metadata": {},
   "source": [
    "### First we'll Try Linear Regression With All the features"
   ]
  },
  {
   "cell_type": "code",
   "execution_count": 13,
   "metadata": {},
   "outputs": [
    {
     "name": "stdout",
     "output_type": "stream",
     "text": [
      "The R-square is:  0.6432875378541507\n",
      "The mean square error of price and predicted value is:  8187357.937996821\n"
     ]
    },
    {
     "name": "stderr",
     "output_type": "stream",
     "text": [
      "/home/pranesh/.local/lib/python3.8/site-packages/seaborn/distributions.py:2551: FutureWarning: `distplot` is a deprecated function and will be removed in a future version. Please adapt your code to use either `displot` (a figure-level function with similar flexibility) or `kdeplot` (an axes-level function for kernel density plots).\n",
      "  warnings.warn(msg, FutureWarning)\n",
      "/home/pranesh/.local/lib/python3.8/site-packages/seaborn/distributions.py:2551: FutureWarning: `distplot` is a deprecated function and will be removed in a future version. Please adapt your code to use either `displot` (a figure-level function with similar flexibility) or `kdeplot` (an axes-level function for kernel density plots).\n",
      "  warnings.warn(msg, FutureWarning)\n"
     ]
    },
    {
     "data": {
      "text/plain": [
       "<AxesSubplot:xlabel='Covid Cases', ylabel='Density'>"
      ]
     },
     "execution_count": 13,
     "metadata": {},
     "output_type": "execute_result"
    },
    {
     "data": {
      "image/png": "[encoded data removed]",
      "text/plain": [
       "<Figure size 432x288 with 1 Axes>"
      ]
     },
     "metadata": {
      "needs_background": "light"
     },
     "output_type": "display_data"
    }
   ],
   "source": [
    "lm = LinearRegression()\n",
    "\n",
    "lm.fit(x_train,y_train)\n",
    "\n",
    "Yhat=lm.predict(x_train)\n",
    "\n",
    "print('The R-square is: ', lm.score(x_train, y_train))\n",
    "mse = mean_squared_error(y_train, Yhat)\n",
    "print('The mean square error of price and predicted value is: ', mse)\n",
    "\n",
    "\n",
    "ax1 = sns.distplot(y_train, hist=False, color=\"r\", label=\"Actual Value\")\n",
    "sns.distplot(Yhat, hist=False, color=\"b\", label=\"Predicted Values\" , ax=ax1)"
   ]
  },
  {
   "cell_type": "code",
   "execution_count": 14,
   "metadata": {},
   "outputs": [
    {
     "name": "stdout",
     "output_type": "stream",
     "text": [
      "The R-square is:  -1.73826303242516e+22\n",
      "The mean square error of price and predicted value is:  4.0306618246213e+29\n"
     ]
    },
    {
     "name": "stderr",
     "output_type": "stream",
     "text": [
      "/home/pranesh/.local/lib/python3.8/site-packages/seaborn/distributions.py:2551: FutureWarning: `distplot` is a deprecated function and will be removed in a future version. Please adapt your code to use either `displot` (a figure-level function with similar flexibility) or `kdeplot` (an axes-level function for kernel density plots).\n",
      "  warnings.warn(msg, FutureWarning)\n",
      "/home/pranesh/.local/lib/python3.8/site-packages/seaborn/distributions.py:2551: FutureWarning: `distplot` is a deprecated function and will be removed in a future version. Please adapt your code to use either `displot` (a figure-level function with similar flexibility) or `kdeplot` (an axes-level function for kernel density plots).\n",
      "  warnings.warn(msg, FutureWarning)\n"
     ]
    },
    {
     "data": {
      "text/plain": [
       "<AxesSubplot:xlabel='Covid Cases', ylabel='Density'>"
      ]
     },
     "execution_count": 14,
     "metadata": {},
     "output_type": "execute_result"
    },
    {
     "data": {
      "image/png": "[encoded data removed]",
      "text/plain": [
       "<Figure size 432x288 with 1 Axes>"
      ]
     },
     "metadata": {
      "needs_background": "light"
     },
     "output_type": "display_data"
    }
   ],
   "source": [
    "Yhat=lm.predict(x_test)\n",
    "\n",
    "\n",
    "print('The R-square is: ', lm.score(x_test, y_test))\n",
    "mse = mean_squared_error(y_test, Yhat)\n",
    "print('The mean square error of price and predicted value is: ', mse)\n",
    "\n",
    "\n",
    "ax1 = sns.distplot(y_test, hist=False, color=\"r\", label=\"Actual Value\")\n",
    "sns.distplot(Yhat, hist=False, color=\"b\", label=\"Predicted Values\" , ax=ax1)"
   ]
  },
  {
   "cell_type": "code",
   "execution_count": null,
   "metadata": {},
   "outputs": [],
   "source": []
  },
  {
   "cell_type": "markdown",
   "metadata": {},
   "source": [
    "#### R2 Scores for Training set and validation Set are 0.8877725748416626 and 0.8840197612322355. And Difference Between CrossVal loss and Train Loss is 1123.4287134482984"
   ]
  },
  {
   "cell_type": "markdown",
   "metadata": {},
   "source": [
    "### Training The Linear Regression Model on Correlated Features"
   ]
  },
  {
   "cell_type": "markdown",
   "metadata": {},
   "source": [
    "#### It Shows that model is training only on 2 features...... So let us try some another non-linear approach"
   ]
  },
  {
   "cell_type": "markdown",
   "metadata": {},
   "source": [
    "### Random Forest Regressor with all the parameters"
   ]
  },
  {
   "cell_type": "code",
   "execution_count": 197,
   "metadata": {},
   "outputs": [
    {
     "name": "stdout",
     "output_type": "stream",
     "text": [
      "The R-square is:  0.9206984282727091\n",
      "The mean square error of price and predicted value is:  1820150.4620031796\n"
     ]
    },
    {
     "name": "stderr",
     "output_type": "stream",
     "text": [
      "/home/pranesh/.local/lib/python3.8/site-packages/seaborn/distributions.py:2551: FutureWarning: `distplot` is a deprecated function and will be removed in a future version. Please adapt your code to use either `displot` (a figure-level function with similar flexibility) or `kdeplot` (an axes-level function for kernel density plots).\n",
      "  warnings.warn(msg, FutureWarning)\n",
      "/home/pranesh/.local/lib/python3.8/site-packages/seaborn/distributions.py:2551: FutureWarning: `distplot` is a deprecated function and will be removed in a future version. Please adapt your code to use either `displot` (a figure-level function with similar flexibility) or `kdeplot` (an axes-level function for kernel density plots).\n",
      "  warnings.warn(msg, FutureWarning)\n"
     ]
    },
    {
     "data": {
      "text/plain": [
       "<AxesSubplot:xlabel='Covid Cases', ylabel='Density'>"
      ]
     },
     "execution_count": 197,
     "metadata": {},
     "output_type": "execute_result"
    },
    {
     "data": {
      "image/png": "[encoded data removed]",
      "text/plain": [
       "<Figure size 432x288 with 1 Axes>"
      ]
     },
     "metadata": {
      "needs_background": "light"
     },
     "output_type": "display_data"
    }
   ],
   "source": [
    "lm = RandomForestRegressor(n_estimators = 10, random_state = 0)\n",
    "\n",
    "lm.fit(x_train,y_train)\n",
    "\n",
    "Yhat=lm.predict(x_train)\n",
    "\n",
    "print('The R-square is: ', lm.score(x_train, y_train))\n",
    "mse = mean_squared_error(y_train, Yhat)\n",
    "print('The mean square error of price and predicted value is: ', mse)\n",
    "\n",
    "\n",
    "ax1 = sns.distplot(y_train, hist=False, color=\"r\", label=\"Actual Value\")\n",
    "sns.distplot(Yhat, hist=False, color=\"b\", label=\"Predicted Values\" , ax=ax1)"
   ]
  },
  {
   "cell_type": "code",
   "execution_count": 198,
   "metadata": {},
   "outputs": [
    {
     "name": "stdout",
     "output_type": "stream",
     "text": [
      "The R-square is:  0.5967139787265956\n",
      "The mean square error of price and predicted value is:  9351344.071801802\n"
     ]
    },
    {
     "name": "stderr",
     "output_type": "stream",
     "text": [
      "/home/pranesh/.local/lib/python3.8/site-packages/seaborn/distributions.py:2551: FutureWarning: `distplot` is a deprecated function and will be removed in a future version. Please adapt your code to use either `displot` (a figure-level function with similar flexibility) or `kdeplot` (an axes-level function for kernel density plots).\n",
      "  warnings.warn(msg, FutureWarning)\n",
      "/home/pranesh/.local/lib/python3.8/site-packages/seaborn/distributions.py:2551: FutureWarning: `distplot` is a deprecated function and will be removed in a future version. Please adapt your code to use either `displot` (a figure-level function with similar flexibility) or `kdeplot` (an axes-level function for kernel density plots).\n",
      "  warnings.warn(msg, FutureWarning)\n"
     ]
    },
    {
     "data": {
      "text/plain": [
       "<AxesSubplot:xlabel='Covid Cases', ylabel='Density'>"
      ]
     },
     "execution_count": 198,
     "metadata": {},
     "output_type": "execute_result"
    },
    {
     "data": {
      "image/png": "[encoded data removed]",
      "text/plain": [
       "<Figure size 432x288 with 1 Axes>"
      ]
     },
     "metadata": {
      "needs_background": "light"
     },
     "output_type": "display_data"
    }
   ],
   "source": [
    "Yhat=lm.predict(x_test)\n",
    "\n",
    "\n",
    "print('The R-square is: ', lm.score(x_test, y_test))\n",
    "mse = mean_squared_error(y_test, Yhat)\n",
    "print('The mean square error of price and predicted value is: ', mse)\n",
    "\n",
    "\n",
    "ax1 = sns.distplot(y_test, hist=False, color=\"r\", label=\"Actual Value\")\n",
    "sns.distplot(Yhat, hist=False, color=\"b\", label=\"Predicted Values\" , ax=ax1)"
   ]
  },
  {
   "cell_type": "code",
   "execution_count": 199,
   "metadata": {},
   "outputs": [],
   "source": [
    "def CalcRMSE(output2,target2):\n",
    "    error = output2-target2\n",
    "    error_sq = error**2\n",
    "    Sum_error_sq = np.sum(error_sq)\n",
    "    variance = Sum_error_sq/len(output2)\n",
    "    RMSE = variance**0.5\n",
    "    return RMSE"
   ]
  },
  {
   "cell_type": "code",
   "execution_count": 200,
   "metadata": {},
   "outputs": [
    {
     "name": "stdout",
     "output_type": "stream",
     "text": [
      "The mean square error of price and predicted value is:  9351344.071801802\n",
      "RMSE:  3057.9967416270742\n"
     ]
    }
   ],
   "source": [
    "print('The mean square error of price and predicted value is: ', mse)\n",
    "print(\"RMSE: \",CalcRMSE(y_test, Yhat))"
   ]
  },
  {
   "cell_type": "markdown",
   "metadata": {},
   "source": [
    "## GRADIENT BOOSTING"
   ]
  },
  {
   "cell_type": "code",
   "execution_count": 201,
   "metadata": {},
   "outputs": [
    {
     "name": "stdout",
     "output_type": "stream",
     "text": [
      "The R-square is:  0.9953268744832343\n",
      "The mean square error of price and predicted value is:  107258.80185061689\n"
     ]
    },
    {
     "name": "stderr",
     "output_type": "stream",
     "text": [
      "/home/pranesh/.local/lib/python3.8/site-packages/seaborn/distributions.py:2551: FutureWarning: `distplot` is a deprecated function and will be removed in a future version. Please adapt your code to use either `displot` (a figure-level function with similar flexibility) or `kdeplot` (an axes-level function for kernel density plots).\n",
      "  warnings.warn(msg, FutureWarning)\n",
      "/home/pranesh/.local/lib/python3.8/site-packages/seaborn/distributions.py:2551: FutureWarning: `distplot` is a deprecated function and will be removed in a future version. Please adapt your code to use either `displot` (a figure-level function with similar flexibility) or `kdeplot` (an axes-level function for kernel density plots).\n",
      "  warnings.warn(msg, FutureWarning)\n"
     ]
    },
    {
     "data": {
      "text/plain": [
       "<AxesSubplot:xlabel='Covid Cases', ylabel='Density'>"
      ]
     },
     "execution_count": 201,
     "metadata": {},
     "output_type": "execute_result"
    },
    {
     "data": {
      "image/png": "[encoded data removed]",
      "text/plain": [
       "<Figure size 432x288 with 1 Axes>"
      ]
     },
     "metadata": {
      "needs_background": "light"
     },
     "output_type": "display_data"
    }
   ],
   "source": [
    "from sklearn import ensemble\n",
    "\n",
    "params = {'n_estimators': 625,\n",
    "          'max_depth': 7,\n",
    "          'min_samples_split': 7,\n",
    "          'learning_rate': 0.01,\n",
    "          'loss': 'ls'}\n",
    "\n",
    "lm = ensemble.GradientBoostingRegressor(**params)\n",
    "\n",
    "lm.fit(x_train,y_train)\n",
    "\n",
    "Yhat=lm.predict(x_train)\n",
    "\n",
    "print('The R-square is: ', lm.score(x_train, y_train))\n",
    "mse = mean_squared_error(y_train, Yhat)\n",
    "print('The mean square error of price and predicted value is: ', mse)\n",
    "\n",
    "\n",
    "ax1 = sns.distplot(y_train, hist=False, color=\"r\", label=\"Actual Value\")\n",
    "sns.distplot(Yhat, hist=False, color=\"b\", label=\"Predicted Values\" , ax=ax1)"
   ]
  },
  {
   "cell_type": "code",
   "execution_count": 202,
   "metadata": {},
   "outputs": [
    {
     "name": "stdout",
     "output_type": "stream",
     "text": [
      "The mean square error of price and predicted value is:  107258.80185061689\n",
      "RMSE:  327.50389593196735\n"
     ]
    }
   ],
   "source": [
    "print('The mean square error of price and predicted value is: ', mse)\n",
    "print(\"RMSE: \",CalcRMSE(y_train, Yhat))"
   ]
  },
  {
   "cell_type": "code",
   "execution_count": 203,
   "metadata": {},
   "outputs": [
    {
     "name": "stdout",
     "output_type": "stream",
     "text": [
      "The R-square is:  0.6160192968512226\n",
      "The mean square error of price and predicted value is:  8903694.85344075\n"
     ]
    },
    {
     "name": "stderr",
     "output_type": "stream",
     "text": [
      "/home/pranesh/.local/lib/python3.8/site-packages/seaborn/distributions.py:2551: FutureWarning: `distplot` is a deprecated function and will be removed in a future version. Please adapt your code to use either `displot` (a figure-level function with similar flexibility) or `kdeplot` (an axes-level function for kernel density plots).\n",
      "  warnings.warn(msg, FutureWarning)\n",
      "/home/pranesh/.local/lib/python3.8/site-packages/seaborn/distributions.py:2551: FutureWarning: `distplot` is a deprecated function and will be removed in a future version. Please adapt your code to use either `displot` (a figure-level function with similar flexibility) or `kdeplot` (an axes-level function for kernel density plots).\n",
      "  warnings.warn(msg, FutureWarning)\n"
     ]
    },
    {
     "data": {
      "text/plain": [
       "<AxesSubplot:xlabel='Covid Cases', ylabel='Density'>"
      ]
     },
     "execution_count": 203,
     "metadata": {},
     "output_type": "execute_result"
    },
    {
     "data": {
      "image/png": "[encoded data removed]",
      "text/plain": [
       "<Figure size 432x288 with 1 Axes>"
      ]
     },
     "metadata": {
      "needs_background": "light"
     },
     "output_type": "display_data"
    }
   ],
   "source": [
    "Yhat=lm.predict(x_test)\n",
    "\n",
    "\n",
    "print('The R-square is: ', lm.score(x_test, y_test))\n",
    "mse = mean_squared_error(y_test, Yhat)\n",
    "print('The mean square error of price and predicted value is: ', mse)\n",
    "\n",
    "\n",
    "ax1 = sns.distplot(y_test, hist=False, color=\"r\", label=\"Actual Value\")\n",
    "sns.distplot(Yhat, hist=False, color=\"b\", label=\"Predicted Values\" , ax=ax1)"
   ]
  },
  {
   "cell_type": "code",
   "execution_count": 204,
   "metadata": {},
   "outputs": [
    {
     "name": "stdout",
     "output_type": "stream",
     "text": [
      "The mean square error of price and predicted value is:  8903694.85344075\n",
      "RMSE:  2983.905972620577\n"
     ]
    }
   ],
   "source": [
    "print('The mean square error of price and predicted value is: ', mse)\n",
    "print(\"RMSE: \",CalcRMSE(y_test, Yhat))"
   ]
  },
  {
   "cell_type": "code",
   "execution_count": null,
   "metadata": {},
   "outputs": [],
   "source": []
  },
  {
   "cell_type": "markdown",
   "metadata": {},
   "source": [
    "## SVM regressor"
   ]
  },
  {
   "cell_type": "code",
   "execution_count": 24,
   "metadata": {},
   "outputs": [
    {
     "name": "stdout",
     "output_type": "stream",
     "text": [
      "The R-square is:  -0.34785909030958306\n",
      "The mean square error of price and predicted value is:  30936415.161843397\n"
     ]
    },
    {
     "name": "stderr",
     "output_type": "stream",
     "text": [
      "/home/pranesh/.local/lib/python3.8/site-packages/seaborn/distributions.py:2551: FutureWarning: `distplot` is a deprecated function and will be removed in a future version. Please adapt your code to use either `displot` (a figure-level function with similar flexibility) or `kdeplot` (an axes-level function for kernel density plots).\n",
      "  warnings.warn(msg, FutureWarning)\n",
      "/home/pranesh/.local/lib/python3.8/site-packages/seaborn/distributions.py:2551: FutureWarning: `distplot` is a deprecated function and will be removed in a future version. Please adapt your code to use either `displot` (a figure-level function with similar flexibility) or `kdeplot` (an axes-level function for kernel density plots).\n",
      "  warnings.warn(msg, FutureWarning)\n"
     ]
    },
    {
     "data": {
      "text/plain": [
       "<AxesSubplot:xlabel='Covid Cases', ylabel='Density'>"
      ]
     },
     "execution_count": 24,
     "metadata": {},
     "output_type": "execute_result"
    },
    {
     "data": {
      "image/png": "[encoded data removed]",
      "text/plain": [
       "<Figure size 432x288 with 1 Axes>"
      ]
     },
     "metadata": {
      "needs_background": "light"
     },
     "output_type": "display_data"
    }
   ],
   "source": [
    "import sklearn\n",
    "\n",
    "lm = sklearn.svm.LinearSVR(random_state=0, tol=1e-5)\n",
    "\n",
    "lm.fit(x_train,y_train)\n",
    "\n",
    "Yhat=lm.predict(x_train)\n",
    "\n",
    "print('The R-square is: ', lm.score(x_train, y_train))\n",
    "mse = mean_squared_error(y_train, Yhat)\n",
    "print('The mean square error of price and predicted value is: ', mse)\n",
    "\n",
    "\n",
    "ax1 = sns.distplot(y_train, hist=False, color=\"r\", label=\"Actual Value\")\n",
    "sns.distplot(Yhat, hist=False, color=\"b\", label=\"Predicted Values\" , ax=ax1)"
   ]
  },
  {
   "cell_type": "code",
   "execution_count": null,
   "metadata": {},
   "outputs": [],
   "source": []
  },
  {
   "cell_type": "code",
   "execution_count": null,
   "metadata": {},
   "outputs": [],
   "source": []
  },
  {
   "cell_type": "code",
   "execution_count": null,
   "metadata": {},
   "outputs": [],
   "source": []
  },
  {
   "cell_type": "code",
   "execution_count": null,
   "metadata": {},
   "outputs": [],
   "source": []
  },
  {
   "cell_type": "code",
   "execution_count": null,
   "metadata": {},
   "outputs": [],
   "source": []
  },
  {
   "cell_type": "markdown",
   "metadata": {},
   "source": [
    "### We have came accross the coclusion that Gradient Boosting ALgorithm is the best method to fit our data"
   ]
  },
  {
   "cell_type": "code",
   "execution_count": null,
   "metadata": {},
   "outputs": [],
   "source": []
  },
  {
   "cell_type": "code",
   "execution_count": 207,
   "metadata": {},
   "outputs": [
    {
     "name": "stdout",
     "output_type": "stream",
     "text": [
      "The R-square is:  0.9929334313973398\n",
      "The mean square error of price and predicted value is:  162463.8004209902\n"
     ]
    },
    {
     "name": "stderr",
     "output_type": "stream",
     "text": [
      "/home/pranesh/.local/lib/python3.8/site-packages/seaborn/distributions.py:2551: FutureWarning: `distplot` is a deprecated function and will be removed in a future version. Please adapt your code to use either `displot` (a figure-level function with similar flexibility) or `kdeplot` (an axes-level function for kernel density plots).\n",
      "  warnings.warn(msg, FutureWarning)\n",
      "/home/pranesh/.local/lib/python3.8/site-packages/seaborn/distributions.py:2551: FutureWarning: `distplot` is a deprecated function and will be removed in a future version. Please adapt your code to use either `displot` (a figure-level function with similar flexibility) or `kdeplot` (an axes-level function for kernel density plots).\n",
      "  warnings.warn(msg, FutureWarning)\n"
     ]
    },
    {
     "data": {
      "text/plain": [
       "<AxesSubplot:xlabel='Covid Cases', ylabel='Density'>"
      ]
     },
     "execution_count": 207,
     "metadata": {},
     "output_type": "execute_result"
    },
    {
     "data": {
      "image/png": "[encoded data removed]",
      "text/plain": [
       "<Figure size 432x288 with 1 Axes>"
      ]
     },
     "metadata": {
      "needs_background": "light"
     },
     "output_type": "display_data"
    }
   ],
   "source": [
    "from sklearn import ensemble\n",
    "\n",
    "params = {'n_estimators': 625,\n",
    "          'max_depth': 7,\n",
    "          'min_samples_split': 7,\n",
    "          'learning_rate': 0.01,\n",
    "          'loss': 'ls'}\n",
    "\n",
    "lm = ensemble.GradientBoostingRegressor(**params)\n",
    "\n",
    "lm.fit(x_data,y_data)\n",
    "\n",
    "Yhat=lm.predict(x_data)\n",
    "\n",
    "print('The R-square is: ', lm.score(x_data, y_data))\n",
    "mse = mean_squared_error(y_data, Yhat)\n",
    "print('The mean square error of price and predicted value is: ', mse)\n",
    "\n",
    "\n",
    "ax1 = sns.distplot(y_data, hist=False, color=\"r\", label=\"Actual Value\")\n",
    "sns.distplot(Yhat, hist=False, color=\"b\", label=\"Predicted Values\" , ax=ax1)"
   ]
  },
  {
   "cell_type": "code",
   "execution_count": 209,
   "metadata": {},
   "outputs": [],
   "source": [
    "import pickle\n",
    "filename = 'model.sav'\n",
    "pickle.dump(lm, open(filename, 'wb'))"
   ]
  },
  {
   "cell_type": "code",
   "execution_count": null,
   "metadata": {},
   "outputs": [],
   "source": []
  }
 ],
 "metadata": {
  "kernelspec": {
   "display_name": "Python 3",
   "language": "python",
   "name": "python3"
  },
  "language_info": {
   "codemirror_mode": {
    "name": "ipython",
    "version": 3
   },
   "file_extension": ".py",
   "mimetype": "text/x-python",
   "name": "python",
   "nbconvert_exporter": "python",
   "pygments_lexer": "ipython3",
   "version": "3.8.2"
  }
 },
 "nbformat": 4,
 "nbformat_minor": 4
}
