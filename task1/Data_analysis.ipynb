{
 "cells": [
  {
   "cell_type": "markdown",
   "metadata": {},
   "source": [
    "# Flipr Hackathon 6.0 Machine learning"
   ]
  },
  {
   "cell_type": "markdown",
   "metadata": {},
   "source": [
    "# Covid19 Cases Prediction"
   ]
  },
  {
   "cell_type": "markdown",
   "metadata": {},
   "source": [
    "## Problem Statement 1: Prediction of Covid19 cases"
   ]
  },
  {
   "cell_type": "markdown",
   "metadata": {},
   "source": [
    "## Data Analysis"
   ]
  },
  {
   "cell_type": "markdown",
   "metadata": {},
   "source": [
    "## Importing Required Libraries"
   ]
  },
  {
   "cell_type": "code",
   "execution_count": 45,
   "metadata": {},
   "outputs": [],
   "source": [
    "import pandas as pd\n",
    "import numpy as np\n",
    "import matplotlib.pylab as plt\n",
    "import seaborn as sns\n",
    "from scipy import stats"
   ]
  },
  {
   "cell_type": "code",
   "execution_count": 46,
   "metadata": {},
   "outputs": [],
   "source": [
    "get_ipython().run_line_magic('matplotlib', 'inline')"
   ]
  },
  {
   "cell_type": "markdown",
   "metadata": {},
   "source": [
    "### importing the data"
   ]
  },
  {
   "cell_type": "code",
   "execution_count": 47,
   "metadata": {},
   "outputs": [],
   "source": [
    "df = pd.read_excel('cleaned_final_train_data.xlsx',sheet_name = 0)"
   ]
  },
  {
   "cell_type": "code",
   "execution_count": 48,
   "metadata": {},
   "outputs": [
    {
     "data": {
      "text/html": [
       "<div>\n",
       "<style scoped>\n",
       "    .dataframe tbody tr th:only-of-type {\n",
       "        vertical-align: middle;\n",
       "    }\n",
       "\n",
       "    .dataframe tbody tr th {\n",
       "        vertical-align: top;\n",
       "    }\n",
       "\n",
       "    .dataframe thead th {\n",
       "        text-align: right;\n",
       "    }\n",
       "</style>\n",
       "<table border=\"1\" class=\"dataframe\">\n",
       "  <thead>\n",
       "    <tr style=\"text-align: right;\">\n",
       "      <th></th>\n",
       "      <th>Unnamed: 0</th>\n",
       "      <th>City</th>\n",
       "      <th>State</th>\n",
       "      <th>Type</th>\n",
       "      <th>SWM</th>\n",
       "      <th>Population [2011]</th>\n",
       "      <th>Sex Ratio</th>\n",
       "      <th>Median Age</th>\n",
       "      <th>Avg Temp</th>\n",
       "      <th>Toilets Avl</th>\n",
       "      <th># of hospitals</th>\n",
       "      <th>Foreign Visitors</th>\n",
       "      <th>Covid Cases</th>\n",
       "      <th>SWM-HIGH</th>\n",
       "      <th>SWM-LOW</th>\n",
       "      <th>SWM-MEDIUM</th>\n",
       "    </tr>\n",
       "  </thead>\n",
       "  <tbody>\n",
       "    <tr>\n",
       "      <th>0</th>\n",
       "      <td>0</td>\n",
       "      <td>Mumbai</td>\n",
       "      <td>Maharashtra</td>\n",
       "      <td>M.C</td>\n",
       "      <td>MEDIUM</td>\n",
       "      <td>1.000000</td>\n",
       "      <td>0.842610</td>\n",
       "      <td>0.71875</td>\n",
       "      <td>0.800</td>\n",
       "      <td>0.964758</td>\n",
       "      <td>1.000000</td>\n",
       "      <td>0.941130</td>\n",
       "      <td>163115</td>\n",
       "      <td>0</td>\n",
       "      <td>0</td>\n",
       "      <td>1</td>\n",
       "    </tr>\n",
       "    <tr>\n",
       "      <th>1</th>\n",
       "      <td>1</td>\n",
       "      <td>Delhi</td>\n",
       "      <td>Delhi</td>\n",
       "      <td>M.C</td>\n",
       "      <td>MEDIUM</td>\n",
       "      <td>0.884705</td>\n",
       "      <td>0.823417</td>\n",
       "      <td>0.84375</td>\n",
       "      <td>0.750</td>\n",
       "      <td>0.947137</td>\n",
       "      <td>0.930818</td>\n",
       "      <td>0.507859</td>\n",
       "      <td>80188</td>\n",
       "      <td>0</td>\n",
       "      <td>0</td>\n",
       "      <td>1</td>\n",
       "    </tr>\n",
       "    <tr>\n",
       "      <th>2</th>\n",
       "      <td>2</td>\n",
       "      <td>Bangalore</td>\n",
       "      <td>Karnataka</td>\n",
       "      <td>MPUA</td>\n",
       "      <td>HIGH</td>\n",
       "      <td>0.678060</td>\n",
       "      <td>0.898273</td>\n",
       "      <td>0.87500</td>\n",
       "      <td>0.925</td>\n",
       "      <td>0.933921</td>\n",
       "      <td>0.773585</td>\n",
       "      <td>0.135868</td>\n",
       "      <td>141000</td>\n",
       "      <td>1</td>\n",
       "      <td>0</td>\n",
       "      <td>0</td>\n",
       "    </tr>\n",
       "    <tr>\n",
       "      <th>3</th>\n",
       "      <td>3</td>\n",
       "      <td>Hyderabad</td>\n",
       "      <td>Telangana</td>\n",
       "      <td>MPUA</td>\n",
       "      <td>MEDIUM</td>\n",
       "      <td>0.547321</td>\n",
       "      <td>0.892514</td>\n",
       "      <td>0.71875</td>\n",
       "      <td>0.775</td>\n",
       "      <td>0.955947</td>\n",
       "      <td>0.691824</td>\n",
       "      <td>0.026913</td>\n",
       "      <td>55123</td>\n",
       "      <td>0</td>\n",
       "      <td>0</td>\n",
       "      <td>1</td>\n",
       "    </tr>\n",
       "    <tr>\n",
       "      <th>4</th>\n",
       "      <td>4</td>\n",
       "      <td>Ahmedabad</td>\n",
       "      <td>Gujarat</td>\n",
       "      <td>MPUA</td>\n",
       "      <td>LOW</td>\n",
       "      <td>0.447711</td>\n",
       "      <td>0.817658</td>\n",
       "      <td>0.90625</td>\n",
       "      <td>0.625</td>\n",
       "      <td>1.000000</td>\n",
       "      <td>0.459119</td>\n",
       "      <td>0.060830</td>\n",
       "      <td>33204</td>\n",
       "      <td>0</td>\n",
       "      <td>1</td>\n",
       "      <td>0</td>\n",
       "    </tr>\n",
       "  </tbody>\n",
       "</table>\n",
       "</div>"
      ],
      "text/plain": [
       "   Unnamed: 0       City        State  Type     SWM  Population [2011]  \\\n",
       "0           0     Mumbai  Maharashtra   M.C  MEDIUM           1.000000   \n",
       "1           1      Delhi        Delhi   M.C  MEDIUM           0.884705   \n",
       "2           2  Bangalore    Karnataka  MPUA    HIGH           0.678060   \n",
       "3           3  Hyderabad    Telangana  MPUA  MEDIUM           0.547321   \n",
       "4           4  Ahmedabad      Gujarat  MPUA     LOW           0.447711   \n",
       "\n",
       "   Sex Ratio  Median Age  Avg Temp  Toilets Avl  # of hospitals  \\\n",
       "0   0.842610     0.71875     0.800     0.964758        1.000000   \n",
       "1   0.823417     0.84375     0.750     0.947137        0.930818   \n",
       "2   0.898273     0.87500     0.925     0.933921        0.773585   \n",
       "3   0.892514     0.71875     0.775     0.955947        0.691824   \n",
       "4   0.817658     0.90625     0.625     1.000000        0.459119   \n",
       "\n",
       "   Foreign Visitors  Covid Cases  SWM-HIGH  SWM-LOW  SWM-MEDIUM  \n",
       "0          0.941130       163115         0        0           1  \n",
       "1          0.507859        80188         0        0           1  \n",
       "2          0.135868       141000         1        0           0  \n",
       "3          0.026913        55123         0        0           1  \n",
       "4          0.060830        33204         0        1           0  "
      ]
     },
     "execution_count": 48,
     "metadata": {},
     "output_type": "execute_result"
    }
   ],
   "source": [
    "df.head()"
   ]
  },
  {
   "cell_type": "code",
   "execution_count": 49,
   "metadata": {},
   "outputs": [],
   "source": [
    "df.drop('Unnamed: 0',axis = 1,inplace = True)"
   ]
  },
  {
   "cell_type": "code",
   "execution_count": 50,
   "metadata": {},
   "outputs": [
    {
     "data": {
      "text/html": [
       "<div>\n",
       "<style scoped>\n",
       "    .dataframe tbody tr th:only-of-type {\n",
       "        vertical-align: middle;\n",
       "    }\n",
       "\n",
       "    .dataframe tbody tr th {\n",
       "        vertical-align: top;\n",
       "    }\n",
       "\n",
       "    .dataframe thead th {\n",
       "        text-align: right;\n",
       "    }\n",
       "</style>\n",
       "<table border=\"1\" class=\"dataframe\">\n",
       "  <thead>\n",
       "    <tr style=\"text-align: right;\">\n",
       "      <th></th>\n",
       "      <th>City</th>\n",
       "      <th>State</th>\n",
       "      <th>Type</th>\n",
       "      <th>SWM</th>\n",
       "      <th>Population [2011]</th>\n",
       "      <th>Sex Ratio</th>\n",
       "      <th>Median Age</th>\n",
       "      <th>Avg Temp</th>\n",
       "      <th>Toilets Avl</th>\n",
       "      <th># of hospitals</th>\n",
       "      <th>Foreign Visitors</th>\n",
       "      <th>Covid Cases</th>\n",
       "      <th>SWM-HIGH</th>\n",
       "      <th>SWM-LOW</th>\n",
       "      <th>SWM-MEDIUM</th>\n",
       "    </tr>\n",
       "  </thead>\n",
       "  <tbody>\n",
       "    <tr>\n",
       "      <th>0</th>\n",
       "      <td>Mumbai</td>\n",
       "      <td>Maharashtra</td>\n",
       "      <td>M.C</td>\n",
       "      <td>MEDIUM</td>\n",
       "      <td>1.000000</td>\n",
       "      <td>0.842610</td>\n",
       "      <td>0.71875</td>\n",
       "      <td>0.800</td>\n",
       "      <td>0.964758</td>\n",
       "      <td>1.000000</td>\n",
       "      <td>0.941130</td>\n",
       "      <td>163115</td>\n",
       "      <td>0</td>\n",
       "      <td>0</td>\n",
       "      <td>1</td>\n",
       "    </tr>\n",
       "    <tr>\n",
       "      <th>1</th>\n",
       "      <td>Delhi</td>\n",
       "      <td>Delhi</td>\n",
       "      <td>M.C</td>\n",
       "      <td>MEDIUM</td>\n",
       "      <td>0.884705</td>\n",
       "      <td>0.823417</td>\n",
       "      <td>0.84375</td>\n",
       "      <td>0.750</td>\n",
       "      <td>0.947137</td>\n",
       "      <td>0.930818</td>\n",
       "      <td>0.507859</td>\n",
       "      <td>80188</td>\n",
       "      <td>0</td>\n",
       "      <td>0</td>\n",
       "      <td>1</td>\n",
       "    </tr>\n",
       "    <tr>\n",
       "      <th>2</th>\n",
       "      <td>Bangalore</td>\n",
       "      <td>Karnataka</td>\n",
       "      <td>MPUA</td>\n",
       "      <td>HIGH</td>\n",
       "      <td>0.678060</td>\n",
       "      <td>0.898273</td>\n",
       "      <td>0.87500</td>\n",
       "      <td>0.925</td>\n",
       "      <td>0.933921</td>\n",
       "      <td>0.773585</td>\n",
       "      <td>0.135868</td>\n",
       "      <td>141000</td>\n",
       "      <td>1</td>\n",
       "      <td>0</td>\n",
       "      <td>0</td>\n",
       "    </tr>\n",
       "    <tr>\n",
       "      <th>3</th>\n",
       "      <td>Hyderabad</td>\n",
       "      <td>Telangana</td>\n",
       "      <td>MPUA</td>\n",
       "      <td>MEDIUM</td>\n",
       "      <td>0.547321</td>\n",
       "      <td>0.892514</td>\n",
       "      <td>0.71875</td>\n",
       "      <td>0.775</td>\n",
       "      <td>0.955947</td>\n",
       "      <td>0.691824</td>\n",
       "      <td>0.026913</td>\n",
       "      <td>55123</td>\n",
       "      <td>0</td>\n",
       "      <td>0</td>\n",
       "      <td>1</td>\n",
       "    </tr>\n",
       "    <tr>\n",
       "      <th>4</th>\n",
       "      <td>Ahmedabad</td>\n",
       "      <td>Gujarat</td>\n",
       "      <td>MPUA</td>\n",
       "      <td>LOW</td>\n",
       "      <td>0.447711</td>\n",
       "      <td>0.817658</td>\n",
       "      <td>0.90625</td>\n",
       "      <td>0.625</td>\n",
       "      <td>1.000000</td>\n",
       "      <td>0.459119</td>\n",
       "      <td>0.060830</td>\n",
       "      <td>33204</td>\n",
       "      <td>0</td>\n",
       "      <td>1</td>\n",
       "      <td>0</td>\n",
       "    </tr>\n",
       "    <tr>\n",
       "      <th>...</th>\n",
       "      <td>...</td>\n",
       "      <td>...</td>\n",
       "      <td>...</td>\n",
       "      <td>...</td>\n",
       "      <td>...</td>\n",
       "      <td>...</td>\n",
       "      <td>...</td>\n",
       "      <td>...</td>\n",
       "      <td>...</td>\n",
       "      <td>...</td>\n",
       "      <td>...</td>\n",
       "      <td>...</td>\n",
       "      <td>...</td>\n",
       "      <td>...</td>\n",
       "      <td>...</td>\n",
       "    </tr>\n",
       "    <tr>\n",
       "      <th>778</th>\n",
       "      <td>Lunawada</td>\n",
       "      <td>Gujarat</td>\n",
       "      <td>M</td>\n",
       "      <td>MEDIUM</td>\n",
       "      <td>0.002970</td>\n",
       "      <td>0.811900</td>\n",
       "      <td>0.71875</td>\n",
       "      <td>0.700</td>\n",
       "      <td>0.299559</td>\n",
       "      <td>0.119497</td>\n",
       "      <td>0.060830</td>\n",
       "      <td>1944</td>\n",
       "      <td>0</td>\n",
       "      <td>0</td>\n",
       "      <td>1</td>\n",
       "    </tr>\n",
       "    <tr>\n",
       "      <th>779</th>\n",
       "      <td>Murshidabad</td>\n",
       "      <td>West Bengal</td>\n",
       "      <td>M</td>\n",
       "      <td>MEDIUM</td>\n",
       "      <td>0.002969</td>\n",
       "      <td>0.906910</td>\n",
       "      <td>0.71875</td>\n",
       "      <td>0.900</td>\n",
       "      <td>0.273128</td>\n",
       "      <td>0.138365</td>\n",
       "      <td>0.317949</td>\n",
       "      <td>2172</td>\n",
       "      <td>0</td>\n",
       "      <td>0</td>\n",
       "      <td>1</td>\n",
       "    </tr>\n",
       "    <tr>\n",
       "      <th>780</th>\n",
       "      <td>Mahe</td>\n",
       "      <td>Puducherry</td>\n",
       "      <td>M</td>\n",
       "      <td>HIGH</td>\n",
       "      <td>0.002960</td>\n",
       "      <td>0.977927</td>\n",
       "      <td>0.87500</td>\n",
       "      <td>0.700</td>\n",
       "      <td>0.431718</td>\n",
       "      <td>0.169811</td>\n",
       "      <td>0.022659</td>\n",
       "      <td>2851</td>\n",
       "      <td>1</td>\n",
       "      <td>0</td>\n",
       "      <td>0</td>\n",
       "    </tr>\n",
       "    <tr>\n",
       "      <th>781</th>\n",
       "      <td>Lanka</td>\n",
       "      <td>Assam</td>\n",
       "      <td>M.B</td>\n",
       "      <td>MEDIUM</td>\n",
       "      <td>0.002958</td>\n",
       "      <td>0.863724</td>\n",
       "      <td>0.75000</td>\n",
       "      <td>0.150</td>\n",
       "      <td>0.277533</td>\n",
       "      <td>0.094340</td>\n",
       "      <td>0.005277</td>\n",
       "      <td>2158</td>\n",
       "      <td>0</td>\n",
       "      <td>0</td>\n",
       "      <td>1</td>\n",
       "    </tr>\n",
       "    <tr>\n",
       "      <th>782</th>\n",
       "      <td>Rudauli</td>\n",
       "      <td>Uttar Pradesh</td>\n",
       "      <td>M.B</td>\n",
       "      <td>HIGH</td>\n",
       "      <td>0.002956</td>\n",
       "      <td>0.853167</td>\n",
       "      <td>0.78125</td>\n",
       "      <td>0.925</td>\n",
       "      <td>0.224670</td>\n",
       "      <td>0.188679</td>\n",
       "      <td>0.662594</td>\n",
       "      <td>2220</td>\n",
       "      <td>1</td>\n",
       "      <td>0</td>\n",
       "      <td>0</td>\n",
       "    </tr>\n",
       "  </tbody>\n",
       "</table>\n",
       "<p>783 rows × 15 columns</p>\n",
       "</div>"
      ],
      "text/plain": [
       "            City          State  Type     SWM  Population [2011]  Sex Ratio  \\\n",
       "0         Mumbai    Maharashtra   M.C  MEDIUM           1.000000   0.842610   \n",
       "1          Delhi          Delhi   M.C  MEDIUM           0.884705   0.823417   \n",
       "2      Bangalore      Karnataka  MPUA    HIGH           0.678060   0.898273   \n",
       "3      Hyderabad      Telangana  MPUA  MEDIUM           0.547321   0.892514   \n",
       "4      Ahmedabad        Gujarat  MPUA     LOW           0.447711   0.817658   \n",
       "..           ...            ...   ...     ...                ...        ...   \n",
       "778     Lunawada        Gujarat     M  MEDIUM           0.002970   0.811900   \n",
       "779  Murshidabad    West Bengal     M  MEDIUM           0.002969   0.906910   \n",
       "780         Mahe     Puducherry     M    HIGH           0.002960   0.977927   \n",
       "781        Lanka          Assam   M.B  MEDIUM           0.002958   0.863724   \n",
       "782      Rudauli  Uttar Pradesh   M.B    HIGH           0.002956   0.853167   \n",
       "\n",
       "     Median Age  Avg Temp  Toilets Avl  # of hospitals  Foreign Visitors  \\\n",
       "0       0.71875     0.800     0.964758        1.000000          0.941130   \n",
       "1       0.84375     0.750     0.947137        0.930818          0.507859   \n",
       "2       0.87500     0.925     0.933921        0.773585          0.135868   \n",
       "3       0.71875     0.775     0.955947        0.691824          0.026913   \n",
       "4       0.90625     0.625     1.000000        0.459119          0.060830   \n",
       "..          ...       ...          ...             ...               ...   \n",
       "778     0.71875     0.700     0.299559        0.119497          0.060830   \n",
       "779     0.71875     0.900     0.273128        0.138365          0.317949   \n",
       "780     0.87500     0.700     0.431718        0.169811          0.022659   \n",
       "781     0.75000     0.150     0.277533        0.094340          0.005277   \n",
       "782     0.78125     0.925     0.224670        0.188679          0.662594   \n",
       "\n",
       "     Covid Cases  SWM-HIGH  SWM-LOW  SWM-MEDIUM  \n",
       "0         163115         0        0           1  \n",
       "1          80188         0        0           1  \n",
       "2         141000         1        0           0  \n",
       "3          55123         0        0           1  \n",
       "4          33204         0        1           0  \n",
       "..           ...       ...      ...         ...  \n",
       "778         1944         0        0           1  \n",
       "779         2172         0        0           1  \n",
       "780         2851         1        0           0  \n",
       "781         2158         0        0           1  \n",
       "782         2220         1        0           0  \n",
       "\n",
       "[783 rows x 15 columns]"
      ]
     },
     "execution_count": 50,
     "metadata": {},
     "output_type": "execute_result"
    }
   ],
   "source": [
    "df"
   ]
  },
  {
   "cell_type": "code",
   "execution_count": 51,
   "metadata": {},
   "outputs": [
    {
     "name": "stdout",
     "output_type": "stream",
     "text": [
      "City                  object\n",
      "State                 object\n",
      "Type                  object\n",
      "SWM                   object\n",
      "Population [2011]    float64\n",
      "Sex Ratio            float64\n",
      "Median Age           float64\n",
      "Avg Temp             float64\n",
      "Toilets Avl          float64\n",
      "# of hospitals       float64\n",
      "Foreign Visitors     float64\n",
      "Covid Cases            int64\n",
      "SWM-HIGH               int64\n",
      "SWM-LOW                int64\n",
      "SWM-MEDIUM             int64\n",
      "dtype: object\n"
     ]
    }
   ],
   "source": [
    "print(df.dtypes)"
   ]
  },
  {
   "cell_type": "markdown",
   "metadata": {},
   "source": [
    "## Removing Outliers"
   ]
  },
  {
   "cell_type": "code",
   "execution_count": 52,
   "metadata": {},
   "outputs": [],
   "source": [
    "from scipy import stats\n",
    "\n",
    "df_1 = df.drop(['City','State','Type','SWM'],axis = 1,inplace = False)\n",
    "z_scores = stats.zscore(df_1)\n",
    "#calculate z-scores of `df`\n",
    "\n",
    "abs_z_scores = np.abs(z_scores)\n",
    "filtered_entries = (abs_z_scores < 3).all(axis=1)\n",
    "df = df[filtered_entries]"
   ]
  },
  {
   "cell_type": "code",
   "execution_count": null,
   "metadata": {},
   "outputs": [],
   "source": []
  },
  {
   "cell_type": "code",
   "execution_count": 53,
   "metadata": {},
   "outputs": [
    {
     "data": {
      "text/plain": [
       "740"
      ]
     },
     "execution_count": 53,
     "metadata": {},
     "output_type": "execute_result"
    }
   ],
   "source": [
    "len(df)"
   ]
  },
  {
   "cell_type": "code",
   "execution_count": 54,
   "metadata": {},
   "outputs": [
    {
     "data": {
      "text/html": [
       "<div>\n",
       "<style scoped>\n",
       "    .dataframe tbody tr th:only-of-type {\n",
       "        vertical-align: middle;\n",
       "    }\n",
       "\n",
       "    .dataframe tbody tr th {\n",
       "        vertical-align: top;\n",
       "    }\n",
       "\n",
       "    .dataframe thead th {\n",
       "        text-align: right;\n",
       "    }\n",
       "</style>\n",
       "<table border=\"1\" class=\"dataframe\">\n",
       "  <thead>\n",
       "    <tr style=\"text-align: right;\">\n",
       "      <th></th>\n",
       "      <th>Population [2011]</th>\n",
       "      <th>Sex Ratio</th>\n",
       "      <th>Median Age</th>\n",
       "      <th>Avg Temp</th>\n",
       "      <th>Toilets Avl</th>\n",
       "      <th># of hospitals</th>\n",
       "      <th>Foreign Visitors</th>\n",
       "      <th>Covid Cases</th>\n",
       "      <th>SWM-HIGH</th>\n",
       "      <th>SWM-LOW</th>\n",
       "      <th>SWM-MEDIUM</th>\n",
       "    </tr>\n",
       "  </thead>\n",
       "  <tbody>\n",
       "    <tr>\n",
       "      <th>Population [2011]</th>\n",
       "      <td>1.000000</td>\n",
       "      <td>-0.101831</td>\n",
       "      <td>-0.035619</td>\n",
       "      <td>0.012397</td>\n",
       "      <td>0.515385</td>\n",
       "      <td>0.520396</td>\n",
       "      <td>0.085073</td>\n",
       "      <td>0.640414</td>\n",
       "      <td>-0.011053</td>\n",
       "      <td>0.058885</td>\n",
       "      <td>-0.048245</td>\n",
       "    </tr>\n",
       "    <tr>\n",
       "      <th>Sex Ratio</th>\n",
       "      <td>-0.101831</td>\n",
       "      <td>1.000000</td>\n",
       "      <td>0.173611</td>\n",
       "      <td>-0.011344</td>\n",
       "      <td>-0.052553</td>\n",
       "      <td>-0.067052</td>\n",
       "      <td>-0.189054</td>\n",
       "      <td>0.010689</td>\n",
       "      <td>0.031946</td>\n",
       "      <td>-0.016504</td>\n",
       "      <td>-0.015889</td>\n",
       "    </tr>\n",
       "    <tr>\n",
       "      <th>Median Age</th>\n",
       "      <td>-0.035619</td>\n",
       "      <td>0.173611</td>\n",
       "      <td>1.000000</td>\n",
       "      <td>-0.028195</td>\n",
       "      <td>-0.025660</td>\n",
       "      <td>-0.057814</td>\n",
       "      <td>-0.006302</td>\n",
       "      <td>0.014255</td>\n",
       "      <td>0.040528</td>\n",
       "      <td>-0.043677</td>\n",
       "      <td>0.002825</td>\n",
       "    </tr>\n",
       "    <tr>\n",
       "      <th>Avg Temp</th>\n",
       "      <td>0.012397</td>\n",
       "      <td>-0.011344</td>\n",
       "      <td>-0.028195</td>\n",
       "      <td>1.000000</td>\n",
       "      <td>0.025157</td>\n",
       "      <td>0.056613</td>\n",
       "      <td>0.074768</td>\n",
       "      <td>0.033194</td>\n",
       "      <td>-0.014828</td>\n",
       "      <td>0.036236</td>\n",
       "      <td>-0.021505</td>\n",
       "    </tr>\n",
       "    <tr>\n",
       "      <th>Toilets Avl</th>\n",
       "      <td>0.515385</td>\n",
       "      <td>-0.052553</td>\n",
       "      <td>-0.025660</td>\n",
       "      <td>0.025157</td>\n",
       "      <td>1.000000</td>\n",
       "      <td>0.788069</td>\n",
       "      <td>0.025939</td>\n",
       "      <td>0.567436</td>\n",
       "      <td>-0.007070</td>\n",
       "      <td>0.005936</td>\n",
       "      <td>0.001209</td>\n",
       "    </tr>\n",
       "    <tr>\n",
       "      <th># of hospitals</th>\n",
       "      <td>0.520396</td>\n",
       "      <td>-0.067052</td>\n",
       "      <td>-0.057814</td>\n",
       "      <td>0.056613</td>\n",
       "      <td>0.788069</td>\n",
       "      <td>1.000000</td>\n",
       "      <td>0.050521</td>\n",
       "      <td>0.596463</td>\n",
       "      <td>-0.016507</td>\n",
       "      <td>0.070375</td>\n",
       "      <td>-0.054298</td>\n",
       "    </tr>\n",
       "    <tr>\n",
       "      <th>Foreign Visitors</th>\n",
       "      <td>0.085073</td>\n",
       "      <td>-0.189054</td>\n",
       "      <td>-0.006302</td>\n",
       "      <td>0.074768</td>\n",
       "      <td>0.025939</td>\n",
       "      <td>0.050521</td>\n",
       "      <td>1.000000</td>\n",
       "      <td>0.142833</td>\n",
       "      <td>-0.020742</td>\n",
       "      <td>0.096698</td>\n",
       "      <td>-0.076584</td>\n",
       "    </tr>\n",
       "    <tr>\n",
       "      <th>Covid Cases</th>\n",
       "      <td>0.640414</td>\n",
       "      <td>0.010689</td>\n",
       "      <td>0.014255</td>\n",
       "      <td>0.033194</td>\n",
       "      <td>0.567436</td>\n",
       "      <td>0.596463</td>\n",
       "      <td>0.142833</td>\n",
       "      <td>1.000000</td>\n",
       "      <td>0.007113</td>\n",
       "      <td>0.017607</td>\n",
       "      <td>-0.025047</td>\n",
       "    </tr>\n",
       "    <tr>\n",
       "      <th>SWM-HIGH</th>\n",
       "      <td>-0.011053</td>\n",
       "      <td>0.031946</td>\n",
       "      <td>0.040528</td>\n",
       "      <td>-0.014828</td>\n",
       "      <td>-0.007070</td>\n",
       "      <td>-0.016507</td>\n",
       "      <td>-0.020742</td>\n",
       "      <td>0.007113</td>\n",
       "      <td>1.000000</td>\n",
       "      <td>-0.514781</td>\n",
       "      <td>-0.499215</td>\n",
       "    </tr>\n",
       "    <tr>\n",
       "      <th>SWM-LOW</th>\n",
       "      <td>0.058885</td>\n",
       "      <td>-0.016504</td>\n",
       "      <td>-0.043677</td>\n",
       "      <td>0.036236</td>\n",
       "      <td>0.005936</td>\n",
       "      <td>0.070375</td>\n",
       "      <td>0.096698</td>\n",
       "      <td>0.017607</td>\n",
       "      <td>-0.514781</td>\n",
       "      <td>1.000000</td>\n",
       "      <td>-0.485865</td>\n",
       "    </tr>\n",
       "    <tr>\n",
       "      <th>SWM-MEDIUM</th>\n",
       "      <td>-0.048245</td>\n",
       "      <td>-0.015889</td>\n",
       "      <td>0.002825</td>\n",
       "      <td>-0.021505</td>\n",
       "      <td>0.001209</td>\n",
       "      <td>-0.054298</td>\n",
       "      <td>-0.076584</td>\n",
       "      <td>-0.025047</td>\n",
       "      <td>-0.499215</td>\n",
       "      <td>-0.485865</td>\n",
       "      <td>1.000000</td>\n",
       "    </tr>\n",
       "  </tbody>\n",
       "</table>\n",
       "</div>"
      ],
      "text/plain": [
       "                   Population [2011]  Sex Ratio  Median Age  Avg Temp  \\\n",
       "Population [2011]           1.000000  -0.101831   -0.035619  0.012397   \n",
       "Sex Ratio                  -0.101831   1.000000    0.173611 -0.011344   \n",
       "Median Age                 -0.035619   0.173611    1.000000 -0.028195   \n",
       "Avg Temp                    0.012397  -0.011344   -0.028195  1.000000   \n",
       "Toilets Avl                 0.515385  -0.052553   -0.025660  0.025157   \n",
       "# of hospitals              0.520396  -0.067052   -0.057814  0.056613   \n",
       "Foreign Visitors            0.085073  -0.189054   -0.006302  0.074768   \n",
       "Covid Cases                 0.640414   0.010689    0.014255  0.033194   \n",
       "SWM-HIGH                   -0.011053   0.031946    0.040528 -0.014828   \n",
       "SWM-LOW                     0.058885  -0.016504   -0.043677  0.036236   \n",
       "SWM-MEDIUM                 -0.048245  -0.015889    0.002825 -0.021505   \n",
       "\n",
       "                   Toilets Avl  # of hospitals  Foreign Visitors  Covid Cases  \\\n",
       "Population [2011]     0.515385        0.520396          0.085073     0.640414   \n",
       "Sex Ratio            -0.052553       -0.067052         -0.189054     0.010689   \n",
       "Median Age           -0.025660       -0.057814         -0.006302     0.014255   \n",
       "Avg Temp              0.025157        0.056613          0.074768     0.033194   \n",
       "Toilets Avl           1.000000        0.788069          0.025939     0.567436   \n",
       "# of hospitals        0.788069        1.000000          0.050521     0.596463   \n",
       "Foreign Visitors      0.025939        0.050521          1.000000     0.142833   \n",
       "Covid Cases           0.567436        0.596463          0.142833     1.000000   \n",
       "SWM-HIGH             -0.007070       -0.016507         -0.020742     0.007113   \n",
       "SWM-LOW               0.005936        0.070375          0.096698     0.017607   \n",
       "SWM-MEDIUM            0.001209       -0.054298         -0.076584    -0.025047   \n",
       "\n",
       "                   SWM-HIGH   SWM-LOW  SWM-MEDIUM  \n",
       "Population [2011] -0.011053  0.058885   -0.048245  \n",
       "Sex Ratio          0.031946 -0.016504   -0.015889  \n",
       "Median Age         0.040528 -0.043677    0.002825  \n",
       "Avg Temp          -0.014828  0.036236   -0.021505  \n",
       "Toilets Avl       -0.007070  0.005936    0.001209  \n",
       "# of hospitals    -0.016507  0.070375   -0.054298  \n",
       "Foreign Visitors  -0.020742  0.096698   -0.076584  \n",
       "Covid Cases        0.007113  0.017607   -0.025047  \n",
       "SWM-HIGH           1.000000 -0.514781   -0.499215  \n",
       "SWM-LOW           -0.514781  1.000000   -0.485865  \n",
       "SWM-MEDIUM        -0.499215 -0.485865    1.000000  "
      ]
     },
     "execution_count": 54,
     "metadata": {},
     "output_type": "execute_result"
    }
   ],
   "source": [
    "df.corr()"
   ]
  },
  {
   "cell_type": "code",
   "execution_count": 55,
   "metadata": {},
   "outputs": [
    {
     "data": {
      "image/png": "[encoded data removed]",
      "text/plain": [
       "<Figure size 720x720 with 2 Axes>"
      ]
     },
     "metadata": {
      "needs_background": "light"
     },
     "output_type": "display_data"
    }
   ],
   "source": [
    "def correlation_heatmap(data):\n",
    "    correlations = data.corr()\n",
    "\n",
    "    fig, ax = plt.subplots(figsize=(10,10))\n",
    "    sns.heatmap(correlations, #vmax=1.0, center=0, fmt='.2f',\n",
    "                square=True, linewidths=.5, annot=True)\n",
    "    plt.show();\n",
    "    \n",
    "correlation_heatmap(df)"
   ]
  },
  {
   "cell_type": "code",
   "execution_count": 56,
   "metadata": {},
   "outputs": [
    {
     "data": {
      "text/plain": [
       "Index(['City', 'State', 'Type', 'SWM', 'Population [2011]', 'Sex Ratio',\n",
       "       'Median Age', 'Avg Temp', 'Toilets Avl', '# of hospitals',\n",
       "       'Foreign Visitors', 'Covid Cases', 'SWM-HIGH', 'SWM-LOW', 'SWM-MEDIUM'],\n",
       "      dtype='object')"
      ]
     },
     "execution_count": 56,
     "metadata": {},
     "output_type": "execute_result"
    }
   ],
   "source": [
    "df.columns"
   ]
  },
  {
   "cell_type": "code",
   "execution_count": 57,
   "metadata": {},
   "outputs": [
    {
     "name": "stdout",
     "output_type": "stream",
     "text": [
      "Population [2011]\n",
      "The Pearson Correlation Coefficient is 0.6404140376448408  with a P-value of P = 1.1735565122991991e-86\n",
      "True\n",
      "------------------------------------------------------------------------------------------\n",
      "Sex Ratio\n",
      "The Pearson Correlation Coefficient is 0.010689196603196276  with a P-value of P = 0.7715910856975146\n",
      "False\n",
      "------------------------------------------------------------------------------------------\n",
      "Median Age\n",
      "The Pearson Correlation Coefficient is 0.014255487574272354  with a P-value of P = 0.6986412415630422\n",
      "False\n",
      "------------------------------------------------------------------------------------------\n",
      "Avg Temp\n",
      "The Pearson Correlation Coefficient is 0.033193866255069815  with a P-value of P = 0.36722008030585235\n",
      "False\n",
      "------------------------------------------------------------------------------------------\n",
      "Toilets Avl\n",
      "The Pearson Correlation Coefficient is 0.5674357554417077  with a P-value of P = 2.7562366224386565e-64\n",
      "True\n",
      "------------------------------------------------------------------------------------------\n",
      "# of hospitals\n",
      "The Pearson Correlation Coefficient is 0.596462746628152  with a P-value of P = 1.6895808702357933e-72\n",
      "True\n",
      "------------------------------------------------------------------------------------------\n",
      "Foreign Visitors\n",
      "The Pearson Correlation Coefficient is 0.14283327104206536  with a P-value of P = 9.662095613490288e-05\n",
      "True\n",
      "------------------------------------------------------------------------------------------\n",
      "SWM-HIGH\n",
      "The Pearson Correlation Coefficient is 0.007113322044499435  with a P-value of P = 0.8468190930734778\n",
      "False\n",
      "------------------------------------------------------------------------------------------\n",
      "SWM-LOW\n",
      "The Pearson Correlation Coefficient is 0.01760713783582503  with a P-value of P = 0.632512625593281\n",
      "False\n",
      "------------------------------------------------------------------------------------------\n",
      "SWM-MEDIUM\n",
      "The Pearson Correlation Coefficient is -0.025047172328254343  with a P-value of P = 0.49630715117428925\n",
      "False\n",
      "------------------------------------------------------------------------------------------\n"
     ]
    }
   ],
   "source": [
    "columns1 = ['Population [2011]', 'Sex Ratio',\n",
    "       'Median Age', 'Avg Temp', 'Toilets Avl', '# of hospitals',\n",
    "       'Foreign Visitors', 'SWM-HIGH', 'SWM-LOW', 'SWM-MEDIUM']\n",
    "\n",
    "for i in columns1:\n",
    "    print(i)\n",
    "    pearson_coef, p_value = stats.pearsonr(df[i], df['Covid Cases'])\n",
    "    print(\"The Pearson Correlation Coefficient is\", pearson_coef, \" with a P-value of P =\", p_value)\n",
    "    print((p_value < 0.05))\n",
    "    print(\"------------------------------------------------------------------------------------------\")"
   ]
  },
  {
   "cell_type": "code",
   "execution_count": 28,
   "metadata": {},
   "outputs": [
    {
     "data": {
      "text/plain": [
       "<AxesSubplot:xlabel='Population [2011]', ylabel='Covid Cases'>"
      ]
     },
     "execution_count": 28,
     "metadata": {},
     "output_type": "execute_result"
    },
    {
     "data": {
      "image/png": "[encoded data removed]",
      "text/plain": [
       "<Figure size 432x288 with 1 Axes>"
      ]
     },
     "metadata": {
      "needs_background": "light"
     },
     "output_type": "display_data"
    }
   ],
   "source": [
    "sns.regplot(x=\"Population [2011]\", y=\"Covid Cases\", data=df)"
   ]
  },
  {
   "cell_type": "code",
   "execution_count": 31,
   "metadata": {},
   "outputs": [
    {
     "data": {
      "text/plain": [
       "<AxesSubplot:xlabel='Sex Ratio', ylabel='Covid Cases'>"
      ]
     },
     "execution_count": 31,
     "metadata": {},
     "output_type": "execute_result"
    },
    {
     "data": {
      "image/png": "[encoded data removed]",
      "text/plain": [
       "<Figure size 432x288 with 1 Axes>"
      ]
     },
     "metadata": {
      "needs_background": "light"
     },
     "output_type": "display_data"
    }
   ],
   "source": [
    "sns.regplot(x=\"Sex Ratio\", y=\"Covid Cases\", data=df)"
   ]
  },
  {
   "cell_type": "code",
   "execution_count": 30,
   "metadata": {},
   "outputs": [
    {
     "data": {
      "text/plain": [
       "<AxesSubplot:xlabel='Median Age', ylabel='Covid Cases'>"
      ]
     },
     "execution_count": 30,
     "metadata": {},
     "output_type": "execute_result"
    },
    {
     "data": {
      "image/png": "[encoded data removed]",
      "text/plain": [
       "<Figure size 432x288 with 1 Axes>"
      ]
     },
     "metadata": {
      "needs_background": "light"
     },
     "output_type": "display_data"
    }
   ],
   "source": [
    "sns.regplot(x=\"Median Age\", y=\"Covid Cases\", data=df)"
   ]
  },
  {
   "cell_type": "code",
   "execution_count": 32,
   "metadata": {},
   "outputs": [
    {
     "data": {
      "text/plain": [
       "<AxesSubplot:xlabel='Avg Temp', ylabel='Covid Cases'>"
      ]
     },
     "execution_count": 32,
     "metadata": {},
     "output_type": "execute_result"
    },
    {
     "data": {
      "image/png": "[encoded data removed]",
      "text/plain": [
       "<Figure size 432x288 with 1 Axes>"
      ]
     },
     "metadata": {
      "needs_background": "light"
     },
     "output_type": "display_data"
    }
   ],
   "source": [
    "sns.regplot(x=\"Avg Temp\", y=\"Covid Cases\", data=df)"
   ]
  },
  {
   "cell_type": "code",
   "execution_count": 34,
   "metadata": {},
   "outputs": [
    {
     "data": {
      "text/plain": [
       "<AxesSubplot:xlabel='# of hospitals', ylabel='Covid Cases'>"
      ]
     },
     "execution_count": 34,
     "metadata": {},
     "output_type": "execute_result"
    },
    {
     "data": {
      "image/png": "[encoded data removed]",
      "text/plain": [
       "<Figure size 432x288 with 1 Axes>"
      ]
     },
     "metadata": {
      "needs_background": "light"
     },
     "output_type": "display_data"
    }
   ],
   "source": [
    "sns.regplot(x=\"# of hospitals\", y=\"Covid Cases\", data=df)"
   ]
  },
  {
   "cell_type": "code",
   "execution_count": 35,
   "metadata": {},
   "outputs": [
    {
     "data": {
      "text/plain": [
       "<AxesSubplot:xlabel='Foreign Visitors', ylabel='Covid Cases'>"
      ]
     },
     "execution_count": 35,
     "metadata": {},
     "output_type": "execute_result"
    },
    {
     "data": {
      "image/png": "[encoded data removed]",
      "text/plain": [
       "<Figure size 432x288 with 1 Axes>"
      ]
     },
     "metadata": {
      "needs_background": "light"
     },
     "output_type": "display_data"
    }
   ],
   "source": [
    "sns.regplot(x=\"Foreign Visitors\", y=\"Covid Cases\", data=df)"
   ]
  },
  {
   "cell_type": "code",
   "execution_count": null,
   "metadata": {},
   "outputs": [],
   "source": []
  },
  {
   "cell_type": "code",
   "execution_count": null,
   "metadata": {},
   "outputs": [],
   "source": []
  },
  {
   "cell_type": "code",
   "execution_count": 37,
   "metadata": {},
   "outputs": [
    {
     "data": {
      "text/plain": [
       "<AxesSubplot:xlabel='SWM', ylabel='Covid Cases'>"
      ]
     },
     "execution_count": 37,
     "metadata": {},
     "output_type": "execute_result"
    },
    {
     "data": {
      "image/png": "[encoded data removed]",
      "text/plain": [
       "<Figure size 432x288 with 1 Axes>"
      ]
     },
     "metadata": {
      "needs_background": "light"
     },
     "output_type": "display_data"
    }
   ],
   "source": [
    "sns.boxplot(x=\"SWM\", y=\"Covid Cases\", data=df)"
   ]
  },
  {
   "cell_type": "markdown",
   "metadata": {},
   "source": [
    "### ANOVA TEST ON INDUSTRY VARIABLE"
   ]
  },
  {
   "cell_type": "code",
   "execution_count": 38,
   "metadata": {},
   "outputs": [
    {
     "data": {
      "text/plain": [
       "<pandas.core.groupby.generic.DataFrameGroupBy object at 0x7ffa520d6be0>"
      ]
     },
     "execution_count": 38,
     "metadata": {},
     "output_type": "execute_result"
    }
   ],
   "source": [
    "df_gptest = df[['SWM','Covid Cases']]\n",
    "\n",
    "grouped_test2=df_gptest[['SWM', 'Covid Cases']].groupby(['SWM'])\n",
    "grouped_test2"
   ]
  },
  {
   "cell_type": "code",
   "execution_count": 39,
   "metadata": {},
   "outputs": [
    {
     "name": "stdout",
     "output_type": "stream",
     "text": [
      "ANOVA results: F= 0.2456085742998429 , P = 0.7822923489911293\n"
     ]
    }
   ],
   "source": [
    "\n",
    "# ANOVA\n",
    "f_val, p_val = stats.f_oneway(grouped_test2.get_group('HIGH')['Covid Cases'], \n",
    "                              grouped_test2.get_group('MEDIUM')['Covid Cases'], \n",
    "                              grouped_test2.get_group('LOW')['Covid Cases'])\n",
    "\n",
    "print( \"ANOVA results: F=\", f_val, \", P =\", p_val)   \n"
   ]
  },
  {
   "cell_type": "code",
   "execution_count": 58,
   "metadata": {},
   "outputs": [
    {
     "data": {
      "text/plain": [
       "740"
      ]
     },
     "execution_count": 58,
     "metadata": {},
     "output_type": "execute_result"
    }
   ],
   "source": [
    "len(df)"
   ]
  },
  {
   "cell_type": "code",
   "execution_count": 61,
   "metadata": {},
   "outputs": [
    {
     "data": {
      "text/html": [
       "<div>\n",
       "<style scoped>\n",
       "    .dataframe tbody tr th:only-of-type {\n",
       "        vertical-align: middle;\n",
       "    }\n",
       "\n",
       "    .dataframe tbody tr th {\n",
       "        vertical-align: top;\n",
       "    }\n",
       "\n",
       "    .dataframe thead th {\n",
       "        text-align: right;\n",
       "    }\n",
       "</style>\n",
       "<table border=\"1\" class=\"dataframe\">\n",
       "  <thead>\n",
       "    <tr style=\"text-align: right;\">\n",
       "      <th></th>\n",
       "      <th>C-1T</th>\n",
       "      <th>C.B</th>\n",
       "      <th>C.M.C</th>\n",
       "      <th>C.T</th>\n",
       "      <th>C.T.</th>\n",
       "      <th>CMC</th>\n",
       "      <th>M</th>\n",
       "      <th>M Cl</th>\n",
       "      <th>M.B</th>\n",
       "      <th>M.C</th>\n",
       "      <th>...</th>\n",
       "      <th>Nagar Parishad</th>\n",
       "      <th>Np</th>\n",
       "      <th>T</th>\n",
       "      <th>T.C</th>\n",
       "      <th>T.M.C</th>\n",
       "      <th>T.M.C.</th>\n",
       "      <th>T.P</th>\n",
       "      <th>T.P.</th>\n",
       "      <th>U.A</th>\n",
       "      <th>UA</th>\n",
       "    </tr>\n",
       "  </thead>\n",
       "  <tbody>\n",
       "    <tr>\n",
       "      <th>10</th>\n",
       "      <td>0</td>\n",
       "      <td>0</td>\n",
       "      <td>0</td>\n",
       "      <td>0</td>\n",
       "      <td>0</td>\n",
       "      <td>0</td>\n",
       "      <td>0</td>\n",
       "      <td>0</td>\n",
       "      <td>0</td>\n",
       "      <td>0</td>\n",
       "      <td>...</td>\n",
       "      <td>0</td>\n",
       "      <td>0</td>\n",
       "      <td>0</td>\n",
       "      <td>0</td>\n",
       "      <td>0</td>\n",
       "      <td>0</td>\n",
       "      <td>0</td>\n",
       "      <td>0</td>\n",
       "      <td>0</td>\n",
       "      <td>0</td>\n",
       "    </tr>\n",
       "    <tr>\n",
       "      <th>11</th>\n",
       "      <td>0</td>\n",
       "      <td>0</td>\n",
       "      <td>0</td>\n",
       "      <td>0</td>\n",
       "      <td>0</td>\n",
       "      <td>0</td>\n",
       "      <td>0</td>\n",
       "      <td>0</td>\n",
       "      <td>0</td>\n",
       "      <td>0</td>\n",
       "      <td>...</td>\n",
       "      <td>0</td>\n",
       "      <td>0</td>\n",
       "      <td>0</td>\n",
       "      <td>0</td>\n",
       "      <td>0</td>\n",
       "      <td>0</td>\n",
       "      <td>0</td>\n",
       "      <td>0</td>\n",
       "      <td>0</td>\n",
       "      <td>0</td>\n",
       "    </tr>\n",
       "    <tr>\n",
       "      <th>12</th>\n",
       "      <td>0</td>\n",
       "      <td>0</td>\n",
       "      <td>0</td>\n",
       "      <td>0</td>\n",
       "      <td>0</td>\n",
       "      <td>0</td>\n",
       "      <td>0</td>\n",
       "      <td>0</td>\n",
       "      <td>0</td>\n",
       "      <td>0</td>\n",
       "      <td>...</td>\n",
       "      <td>0</td>\n",
       "      <td>0</td>\n",
       "      <td>0</td>\n",
       "      <td>0</td>\n",
       "      <td>0</td>\n",
       "      <td>0</td>\n",
       "      <td>0</td>\n",
       "      <td>0</td>\n",
       "      <td>0</td>\n",
       "      <td>0</td>\n",
       "    </tr>\n",
       "    <tr>\n",
       "      <th>14</th>\n",
       "      <td>0</td>\n",
       "      <td>0</td>\n",
       "      <td>0</td>\n",
       "      <td>0</td>\n",
       "      <td>0</td>\n",
       "      <td>0</td>\n",
       "      <td>0</td>\n",
       "      <td>0</td>\n",
       "      <td>0</td>\n",
       "      <td>0</td>\n",
       "      <td>...</td>\n",
       "      <td>0</td>\n",
       "      <td>0</td>\n",
       "      <td>0</td>\n",
       "      <td>0</td>\n",
       "      <td>0</td>\n",
       "      <td>0</td>\n",
       "      <td>0</td>\n",
       "      <td>0</td>\n",
       "      <td>0</td>\n",
       "      <td>0</td>\n",
       "    </tr>\n",
       "    <tr>\n",
       "      <th>15</th>\n",
       "      <td>0</td>\n",
       "      <td>0</td>\n",
       "      <td>0</td>\n",
       "      <td>0</td>\n",
       "      <td>0</td>\n",
       "      <td>0</td>\n",
       "      <td>0</td>\n",
       "      <td>0</td>\n",
       "      <td>0</td>\n",
       "      <td>0</td>\n",
       "      <td>...</td>\n",
       "      <td>0</td>\n",
       "      <td>0</td>\n",
       "      <td>0</td>\n",
       "      <td>0</td>\n",
       "      <td>0</td>\n",
       "      <td>0</td>\n",
       "      <td>0</td>\n",
       "      <td>0</td>\n",
       "      <td>0</td>\n",
       "      <td>0</td>\n",
       "    </tr>\n",
       "    <tr>\n",
       "      <th>16</th>\n",
       "      <td>0</td>\n",
       "      <td>0</td>\n",
       "      <td>0</td>\n",
       "      <td>0</td>\n",
       "      <td>0</td>\n",
       "      <td>0</td>\n",
       "      <td>0</td>\n",
       "      <td>0</td>\n",
       "      <td>0</td>\n",
       "      <td>0</td>\n",
       "      <td>...</td>\n",
       "      <td>0</td>\n",
       "      <td>0</td>\n",
       "      <td>0</td>\n",
       "      <td>0</td>\n",
       "      <td>0</td>\n",
       "      <td>0</td>\n",
       "      <td>0</td>\n",
       "      <td>0</td>\n",
       "      <td>0</td>\n",
       "      <td>0</td>\n",
       "    </tr>\n",
       "    <tr>\n",
       "      <th>17</th>\n",
       "      <td>0</td>\n",
       "      <td>0</td>\n",
       "      <td>0</td>\n",
       "      <td>0</td>\n",
       "      <td>0</td>\n",
       "      <td>0</td>\n",
       "      <td>0</td>\n",
       "      <td>0</td>\n",
       "      <td>0</td>\n",
       "      <td>0</td>\n",
       "      <td>...</td>\n",
       "      <td>0</td>\n",
       "      <td>0</td>\n",
       "      <td>0</td>\n",
       "      <td>0</td>\n",
       "      <td>0</td>\n",
       "      <td>0</td>\n",
       "      <td>0</td>\n",
       "      <td>0</td>\n",
       "      <td>0</td>\n",
       "      <td>0</td>\n",
       "    </tr>\n",
       "    <tr>\n",
       "      <th>18</th>\n",
       "      <td>0</td>\n",
       "      <td>0</td>\n",
       "      <td>0</td>\n",
       "      <td>0</td>\n",
       "      <td>0</td>\n",
       "      <td>0</td>\n",
       "      <td>0</td>\n",
       "      <td>0</td>\n",
       "      <td>0</td>\n",
       "      <td>0</td>\n",
       "      <td>...</td>\n",
       "      <td>0</td>\n",
       "      <td>0</td>\n",
       "      <td>0</td>\n",
       "      <td>0</td>\n",
       "      <td>0</td>\n",
       "      <td>0</td>\n",
       "      <td>0</td>\n",
       "      <td>0</td>\n",
       "      <td>0</td>\n",
       "      <td>0</td>\n",
       "    </tr>\n",
       "    <tr>\n",
       "      <th>19</th>\n",
       "      <td>0</td>\n",
       "      <td>0</td>\n",
       "      <td>0</td>\n",
       "      <td>0</td>\n",
       "      <td>0</td>\n",
       "      <td>0</td>\n",
       "      <td>0</td>\n",
       "      <td>0</td>\n",
       "      <td>0</td>\n",
       "      <td>0</td>\n",
       "      <td>...</td>\n",
       "      <td>0</td>\n",
       "      <td>0</td>\n",
       "      <td>0</td>\n",
       "      <td>0</td>\n",
       "      <td>0</td>\n",
       "      <td>0</td>\n",
       "      <td>0</td>\n",
       "      <td>0</td>\n",
       "      <td>0</td>\n",
       "      <td>0</td>\n",
       "    </tr>\n",
       "    <tr>\n",
       "      <th>20</th>\n",
       "      <td>0</td>\n",
       "      <td>0</td>\n",
       "      <td>0</td>\n",
       "      <td>0</td>\n",
       "      <td>0</td>\n",
       "      <td>0</td>\n",
       "      <td>0</td>\n",
       "      <td>0</td>\n",
       "      <td>0</td>\n",
       "      <td>0</td>\n",
       "      <td>...</td>\n",
       "      <td>0</td>\n",
       "      <td>0</td>\n",
       "      <td>0</td>\n",
       "      <td>0</td>\n",
       "      <td>0</td>\n",
       "      <td>0</td>\n",
       "      <td>0</td>\n",
       "      <td>0</td>\n",
       "      <td>0</td>\n",
       "      <td>0</td>\n",
       "    </tr>\n",
       "  </tbody>\n",
       "</table>\n",
       "<p>10 rows × 34 columns</p>\n",
       "</div>"
      ],
      "text/plain": [
       "    C-1T  C.B  C.M.C  C.T  C.T.  CMC  M  M Cl  M.B  M.C  ...  Nagar Parishad  \\\n",
       "10     0    0      0    0     0    0  0     0    0    0  ...               0   \n",
       "11     0    0      0    0     0    0  0     0    0    0  ...               0   \n",
       "12     0    0      0    0     0    0  0     0    0    0  ...               0   \n",
       "14     0    0      0    0     0    0  0     0    0    0  ...               0   \n",
       "15     0    0      0    0     0    0  0     0    0    0  ...               0   \n",
       "16     0    0      0    0     0    0  0     0    0    0  ...               0   \n",
       "17     0    0      0    0     0    0  0     0    0    0  ...               0   \n",
       "18     0    0      0    0     0    0  0     0    0    0  ...               0   \n",
       "19     0    0      0    0     0    0  0     0    0    0  ...               0   \n",
       "20     0    0      0    0     0    0  0     0    0    0  ...               0   \n",
       "\n",
       "    Np  T  T.C  T.M.C  T.M.C.  T.P  T.P.  U.A  UA  \n",
       "10   0  0    0      0       0    0     0    0   0  \n",
       "11   0  0    0      0       0    0     0    0   0  \n",
       "12   0  0    0      0       0    0     0    0   0  \n",
       "14   0  0    0      0       0    0     0    0   0  \n",
       "15   0  0    0      0       0    0     0    0   0  \n",
       "16   0  0    0      0       0    0     0    0   0  \n",
       "17   0  0    0      0       0    0     0    0   0  \n",
       "18   0  0    0      0       0    0     0    0   0  \n",
       "19   0  0    0      0       0    0     0    0   0  \n",
       "20   0  0    0      0       0    0     0    0   0  \n",
       "\n",
       "[10 rows x 34 columns]"
      ]
     },
     "execution_count": 61,
     "metadata": {},
     "output_type": "execute_result"
    }
   ],
   "source": [
    "dummy_variable_1 = pd.get_dummies(df[\"Type\"])\n",
    "dummy_variable_1.head(10)"
   ]
  },
  {
   "cell_type": "code",
   "execution_count": 62,
   "metadata": {},
   "outputs": [],
   "source": [
    "cleaned_final_data = pd.concat([df, dummy_variable_1], axis=1)"
   ]
  },
  {
   "cell_type": "code",
   "execution_count": 63,
   "metadata": {},
   "outputs": [],
   "source": [
    "cleaned_final_data.drop(['Type'],axis  = 1, inplace = True)"
   ]
  },
  {
   "cell_type": "code",
   "execution_count": null,
   "metadata": {},
   "outputs": [],
   "source": []
  },
  {
   "cell_type": "code",
   "execution_count": 64,
   "metadata": {},
   "outputs": [
    {
     "data": {
      "text/html": [
       "<div>\n",
       "<style scoped>\n",
       "    .dataframe tbody tr th:only-of-type {\n",
       "        vertical-align: middle;\n",
       "    }\n",
       "\n",
       "    .dataframe tbody tr th {\n",
       "        vertical-align: top;\n",
       "    }\n",
       "\n",
       "    .dataframe thead th {\n",
       "        text-align: right;\n",
       "    }\n",
       "</style>\n",
       "<table border=\"1\" class=\"dataframe\">\n",
       "  <thead>\n",
       "    <tr style=\"text-align: right;\">\n",
       "      <th></th>\n",
       "      <th>Andaman and Nicobar Islands</th>\n",
       "      <th>Andhra Pradesh</th>\n",
       "      <th>Assam</th>\n",
       "      <th>Bihar</th>\n",
       "      <th>Chandigarh</th>\n",
       "      <th>Chhattisgarh</th>\n",
       "      <th>Delhi</th>\n",
       "      <th>Goa</th>\n",
       "      <th>Gujarat</th>\n",
       "      <th>Haryana</th>\n",
       "      <th>...</th>\n",
       "      <th>Punjab</th>\n",
       "      <th>Rajasthan</th>\n",
       "      <th>Sikkim</th>\n",
       "      <th>Tamil Nadu</th>\n",
       "      <th>Tamil nadu</th>\n",
       "      <th>Telangana</th>\n",
       "      <th>Tripura</th>\n",
       "      <th>Uttar Pradesh</th>\n",
       "      <th>Uttarakhand</th>\n",
       "      <th>West Bengal</th>\n",
       "    </tr>\n",
       "  </thead>\n",
       "  <tbody>\n",
       "    <tr>\n",
       "      <th>10</th>\n",
       "      <td>0</td>\n",
       "      <td>0</td>\n",
       "      <td>0</td>\n",
       "      <td>0</td>\n",
       "      <td>0</td>\n",
       "      <td>0</td>\n",
       "      <td>0</td>\n",
       "      <td>0</td>\n",
       "      <td>0</td>\n",
       "      <td>0</td>\n",
       "      <td>...</td>\n",
       "      <td>0</td>\n",
       "      <td>0</td>\n",
       "      <td>0</td>\n",
       "      <td>0</td>\n",
       "      <td>0</td>\n",
       "      <td>0</td>\n",
       "      <td>0</td>\n",
       "      <td>1</td>\n",
       "      <td>0</td>\n",
       "      <td>0</td>\n",
       "    </tr>\n",
       "    <tr>\n",
       "      <th>11</th>\n",
       "      <td>0</td>\n",
       "      <td>0</td>\n",
       "      <td>0</td>\n",
       "      <td>0</td>\n",
       "      <td>0</td>\n",
       "      <td>0</td>\n",
       "      <td>0</td>\n",
       "      <td>0</td>\n",
       "      <td>0</td>\n",
       "      <td>0</td>\n",
       "      <td>...</td>\n",
       "      <td>0</td>\n",
       "      <td>0</td>\n",
       "      <td>0</td>\n",
       "      <td>0</td>\n",
       "      <td>0</td>\n",
       "      <td>0</td>\n",
       "      <td>0</td>\n",
       "      <td>0</td>\n",
       "      <td>0</td>\n",
       "      <td>0</td>\n",
       "    </tr>\n",
       "    <tr>\n",
       "      <th>12</th>\n",
       "      <td>0</td>\n",
       "      <td>0</td>\n",
       "      <td>0</td>\n",
       "      <td>0</td>\n",
       "      <td>0</td>\n",
       "      <td>0</td>\n",
       "      <td>0</td>\n",
       "      <td>0</td>\n",
       "      <td>0</td>\n",
       "      <td>0</td>\n",
       "      <td>...</td>\n",
       "      <td>0</td>\n",
       "      <td>0</td>\n",
       "      <td>0</td>\n",
       "      <td>0</td>\n",
       "      <td>0</td>\n",
       "      <td>0</td>\n",
       "      <td>0</td>\n",
       "      <td>0</td>\n",
       "      <td>0</td>\n",
       "      <td>0</td>\n",
       "    </tr>\n",
       "    <tr>\n",
       "      <th>14</th>\n",
       "      <td>0</td>\n",
       "      <td>0</td>\n",
       "      <td>0</td>\n",
       "      <td>0</td>\n",
       "      <td>0</td>\n",
       "      <td>0</td>\n",
       "      <td>0</td>\n",
       "      <td>0</td>\n",
       "      <td>0</td>\n",
       "      <td>0</td>\n",
       "      <td>...</td>\n",
       "      <td>0</td>\n",
       "      <td>0</td>\n",
       "      <td>0</td>\n",
       "      <td>0</td>\n",
       "      <td>0</td>\n",
       "      <td>0</td>\n",
       "      <td>0</td>\n",
       "      <td>0</td>\n",
       "      <td>0</td>\n",
       "      <td>0</td>\n",
       "    </tr>\n",
       "    <tr>\n",
       "      <th>15</th>\n",
       "      <td>0</td>\n",
       "      <td>1</td>\n",
       "      <td>0</td>\n",
       "      <td>0</td>\n",
       "      <td>0</td>\n",
       "      <td>0</td>\n",
       "      <td>0</td>\n",
       "      <td>0</td>\n",
       "      <td>0</td>\n",
       "      <td>0</td>\n",
       "      <td>...</td>\n",
       "      <td>0</td>\n",
       "      <td>0</td>\n",
       "      <td>0</td>\n",
       "      <td>0</td>\n",
       "      <td>0</td>\n",
       "      <td>0</td>\n",
       "      <td>0</td>\n",
       "      <td>0</td>\n",
       "      <td>0</td>\n",
       "      <td>0</td>\n",
       "    </tr>\n",
       "  </tbody>\n",
       "</table>\n",
       "<p>5 rows × 31 columns</p>\n",
       "</div>"
      ],
      "text/plain": [
       "    Andaman and Nicobar Islands  Andhra Pradesh  Assam  Bihar  Chandigarh  \\\n",
       "10                            0               0      0      0           0   \n",
       "11                            0               0      0      0           0   \n",
       "12                            0               0      0      0           0   \n",
       "14                            0               0      0      0           0   \n",
       "15                            0               1      0      0           0   \n",
       "\n",
       "    Chhattisgarh  Delhi  Goa  Gujarat  Haryana  ...  Punjab  Rajasthan  \\\n",
       "10             0      0    0        0        0  ...       0          0   \n",
       "11             0      0    0        0        0  ...       0          0   \n",
       "12             0      0    0        0        0  ...       0          0   \n",
       "14             0      0    0        0        0  ...       0          0   \n",
       "15             0      0    0        0        0  ...       0          0   \n",
       "\n",
       "    Sikkim  Tamil Nadu  Tamil nadu  Telangana  Tripura  Uttar Pradesh  \\\n",
       "10       0           0           0          0        0              1   \n",
       "11       0           0           0          0        0              0   \n",
       "12       0           0           0          0        0              0   \n",
       "14       0           0           0          0        0              0   \n",
       "15       0           0           0          0        0              0   \n",
       "\n",
       "    Uttarakhand  West Bengal  \n",
       "10            0            0  \n",
       "11            0            0  \n",
       "12            0            0  \n",
       "14            0            0  \n",
       "15            0            0  \n",
       "\n",
       "[5 rows x 31 columns]"
      ]
     },
     "execution_count": 64,
     "metadata": {},
     "output_type": "execute_result"
    }
   ],
   "source": [
    "dummy_variable_1 = pd.get_dummies(cleaned_final_data[\"State\"])\n",
    "dummy_variable_1.head(5)"
   ]
  },
  {
   "cell_type": "code",
   "execution_count": 65,
   "metadata": {},
   "outputs": [],
   "source": [
    "cleaned_final_data2 = pd.concat([cleaned_final_data, dummy_variable_1], axis=1)"
   ]
  },
  {
   "cell_type": "code",
   "execution_count": 66,
   "metadata": {},
   "outputs": [],
   "source": [
    "cleaned_final_data2.drop(['State'],axis  = 1, inplace = True)"
   ]
  },
  {
   "cell_type": "code",
   "execution_count": null,
   "metadata": {},
   "outputs": [],
   "source": []
  },
  {
   "cell_type": "code",
   "execution_count": null,
   "metadata": {},
   "outputs": [],
   "source": []
  },
  {
   "cell_type": "code",
   "execution_count": 67,
   "metadata": {},
   "outputs": [],
   "source": [
    "cleaned_final_data2.to_excel('final_training_data2.xlsx')"
   ]
  },
  {
   "cell_type": "code",
   "execution_count": null,
   "metadata": {},
   "outputs": [],
   "source": []
  },
  {
   "cell_type": "markdown",
   "metadata": {},
   "source": [
    "### The results shows that the linear regression model should not used to fit the data.... Rather that we should go for non- linear approach"
   ]
  },
  {
   "cell_type": "markdown",
   "metadata": {},
   "source": [
    "### we can use neural network, random forest regressor or SVM regressor to train the model"
   ]
  }
 ],
 "metadata": {
  "kernelspec": {
   "display_name": "Python 3",
   "language": "python",
   "name": "python3"
  },
  "language_info": {
   "codemirror_mode": {
    "name": "ipython",
    "version": 3
   },
   "file_extension": ".py",
   "mimetype": "text/x-python",
   "name": "python",
   "nbconvert_exporter": "python",
   "pygments_lexer": "ipython3",
   "version": "3.8.2"
  }
 },
 "nbformat": 4,
 "nbformat_minor": 4
}
